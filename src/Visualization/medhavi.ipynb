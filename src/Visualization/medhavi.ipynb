{
  "nbformat": 4,
  "nbformat_minor": 0,
  "metadata": {
    "colab": {
      "name": "OCA_ada_btc_eth.ipynb",
      "provenance": [],
      "collapsed_sections": []
    },
    "kernelspec": {
      "name": "python3",
      "display_name": "Python 3"
    },
    "language_info": {
      "name": "python"
    }
  },
  "cells": [
    {
      "cell_type": "code",
      "execution_count": null,
      "metadata": {
        "id": "H_LUJQdLLR0t"
      },
      "outputs": [],
      "source": [
        "import pandas as pd\n",
        "import numpy as np\n",
        "import seaborn as sns"
      ]
    },
    {
      "cell_type": "code",
      "source": [
        "ada_data = pd.read_csv(\"https://raw.githubusercontent.com/Med16-11/Open-Cryptocurrency-Analysis/main/src/Data/ada_data.csv\")"
      ],
      "metadata": {
        "id": "4_8vEPIwL4Zh"
      },
      "execution_count": null,
      "outputs": []
    },
    {
      "cell_type": "code",
      "source": [
        "btc_data = pd.read_csv(\"https://raw.githubusercontent.com/Med16-11/Open-Cryptocurrency-Analysis/main/src/Data/btc_data.csv\")"
      ],
      "metadata": {
        "id": "JdKsJLFZcGMQ"
      },
      "execution_count": null,
      "outputs": []
    },
    {
      "cell_type": "code",
      "source": [
        "eth_data = pd.read_csv(\"https://raw.githubusercontent.com/Med16-11/Open-Cryptocurrency-Analysis/main/src/Data/eth_data.csv\")"
      ],
      "metadata": {
        "id": "GLcOzNtoc4Pp"
      },
      "execution_count": null,
      "outputs": []
    },
    {
      "cell_type": "code",
      "source": [
        "ada_data.head()"
      ],
      "metadata": {
        "colab": {
          "base_uri": "https://localhost:8080/",
          "height": 206
        },
        "id": "63iO2QixP42X",
        "outputId": "84e1d93c-86b5-4433-f498-d22b2c9b06e0"
      },
      "execution_count": null,
      "outputs": [
        {
          "output_type": "execute_result",
          "data": {
            "text/plain": [
              "   Unnamed: 0           0         1\n",
              "0           0  2017-11-06  1.562341\n",
              "1           1  2017-11-13  1.825773\n",
              "2           2  2017-11-20  2.349590\n",
              "3           3  2017-11-27  8.502870\n",
              "4           4  2017-12-04  7.109816"
            ],
            "text/html": [
              "\n",
              "  <div id=\"df-c97f99af-ae52-4657-a334-e207bd2b6813\">\n",
              "    <div class=\"colab-df-container\">\n",
              "      <div>\n",
              "<style scoped>\n",
              "    .dataframe tbody tr th:only-of-type {\n",
              "        vertical-align: middle;\n",
              "    }\n",
              "\n",
              "    .dataframe tbody tr th {\n",
              "        vertical-align: top;\n",
              "    }\n",
              "\n",
              "    .dataframe thead th {\n",
              "        text-align: right;\n",
              "    }\n",
              "</style>\n",
              "<table border=\"1\" class=\"dataframe\">\n",
              "  <thead>\n",
              "    <tr style=\"text-align: right;\">\n",
              "      <th></th>\n",
              "      <th>Unnamed: 0</th>\n",
              "      <th>0</th>\n",
              "      <th>1</th>\n",
              "    </tr>\n",
              "  </thead>\n",
              "  <tbody>\n",
              "    <tr>\n",
              "      <th>0</th>\n",
              "      <td>0</td>\n",
              "      <td>2017-11-06</td>\n",
              "      <td>1.562341</td>\n",
              "    </tr>\n",
              "    <tr>\n",
              "      <th>1</th>\n",
              "      <td>1</td>\n",
              "      <td>2017-11-13</td>\n",
              "      <td>1.825773</td>\n",
              "    </tr>\n",
              "    <tr>\n",
              "      <th>2</th>\n",
              "      <td>2</td>\n",
              "      <td>2017-11-20</td>\n",
              "      <td>2.349590</td>\n",
              "    </tr>\n",
              "    <tr>\n",
              "      <th>3</th>\n",
              "      <td>3</td>\n",
              "      <td>2017-11-27</td>\n",
              "      <td>8.502870</td>\n",
              "    </tr>\n",
              "    <tr>\n",
              "      <th>4</th>\n",
              "      <td>4</td>\n",
              "      <td>2017-12-04</td>\n",
              "      <td>7.109816</td>\n",
              "    </tr>\n",
              "  </tbody>\n",
              "</table>\n",
              "</div>\n",
              "      <button class=\"colab-df-convert\" onclick=\"convertToInteractive('df-c97f99af-ae52-4657-a334-e207bd2b6813')\"\n",
              "              title=\"Convert this dataframe to an interactive table.\"\n",
              "              style=\"display:none;\">\n",
              "        \n",
              "  <svg xmlns=\"http://www.w3.org/2000/svg\" height=\"24px\"viewBox=\"0 0 24 24\"\n",
              "       width=\"24px\">\n",
              "    <path d=\"M0 0h24v24H0V0z\" fill=\"none\"/>\n",
              "    <path d=\"M18.56 5.44l.94 2.06.94-2.06 2.06-.94-2.06-.94-.94-2.06-.94 2.06-2.06.94zm-11 1L8.5 8.5l.94-2.06 2.06-.94-2.06-.94L8.5 2.5l-.94 2.06-2.06.94zm10 10l.94 2.06.94-2.06 2.06-.94-2.06-.94-.94-2.06-.94 2.06-2.06.94z\"/><path d=\"M17.41 7.96l-1.37-1.37c-.4-.4-.92-.59-1.43-.59-.52 0-1.04.2-1.43.59L10.3 9.45l-7.72 7.72c-.78.78-.78 2.05 0 2.83L4 21.41c.39.39.9.59 1.41.59.51 0 1.02-.2 1.41-.59l7.78-7.78 2.81-2.81c.8-.78.8-2.07 0-2.86zM5.41 20L4 18.59l7.72-7.72 1.47 1.35L5.41 20z\"/>\n",
              "  </svg>\n",
              "      </button>\n",
              "      \n",
              "  <style>\n",
              "    .colab-df-container {\n",
              "      display:flex;\n",
              "      flex-wrap:wrap;\n",
              "      gap: 12px;\n",
              "    }\n",
              "\n",
              "    .colab-df-convert {\n",
              "      background-color: #E8F0FE;\n",
              "      border: none;\n",
              "      border-radius: 50%;\n",
              "      cursor: pointer;\n",
              "      display: none;\n",
              "      fill: #1967D2;\n",
              "      height: 32px;\n",
              "      padding: 0 0 0 0;\n",
              "      width: 32px;\n",
              "    }\n",
              "\n",
              "    .colab-df-convert:hover {\n",
              "      background-color: #E2EBFA;\n",
              "      box-shadow: 0px 1px 2px rgba(60, 64, 67, 0.3), 0px 1px 3px 1px rgba(60, 64, 67, 0.15);\n",
              "      fill: #174EA6;\n",
              "    }\n",
              "\n",
              "    [theme=dark] .colab-df-convert {\n",
              "      background-color: #3B4455;\n",
              "      fill: #D2E3FC;\n",
              "    }\n",
              "\n",
              "    [theme=dark] .colab-df-convert:hover {\n",
              "      background-color: #434B5C;\n",
              "      box-shadow: 0px 1px 3px 1px rgba(0, 0, 0, 0.15);\n",
              "      filter: drop-shadow(0px 1px 2px rgba(0, 0, 0, 0.3));\n",
              "      fill: #FFFFFF;\n",
              "    }\n",
              "  </style>\n",
              "\n",
              "      <script>\n",
              "        const buttonEl =\n",
              "          document.querySelector('#df-c97f99af-ae52-4657-a334-e207bd2b6813 button.colab-df-convert');\n",
              "        buttonEl.style.display =\n",
              "          google.colab.kernel.accessAllowed ? 'block' : 'none';\n",
              "\n",
              "        async function convertToInteractive(key) {\n",
              "          const element = document.querySelector('#df-c97f99af-ae52-4657-a334-e207bd2b6813');\n",
              "          const dataTable =\n",
              "            await google.colab.kernel.invokeFunction('convertToInteractive',\n",
              "                                                     [key], {});\n",
              "          if (!dataTable) return;\n",
              "\n",
              "          const docLinkHtml = 'Like what you see? Visit the ' +\n",
              "            '<a target=\"_blank\" href=https://colab.research.google.com/notebooks/data_table.ipynb>data table notebook</a>'\n",
              "            + ' to learn more about interactive tables.';\n",
              "          element.innerHTML = '';\n",
              "          dataTable['output_type'] = 'display_data';\n",
              "          await google.colab.output.renderOutput(dataTable, element);\n",
              "          const docLink = document.createElement('div');\n",
              "          docLink.innerHTML = docLinkHtml;\n",
              "          element.appendChild(docLink);\n",
              "        }\n",
              "      </script>\n",
              "    </div>\n",
              "  </div>\n",
              "  "
            ]
          },
          "metadata": {},
          "execution_count": 8
        }
      ]
    },
    {
      "cell_type": "code",
      "source": [
        "btc_data.head()"
      ],
      "metadata": {
        "colab": {
          "base_uri": "https://localhost:8080/",
          "height": 206
        },
        "id": "cVBrNwfJdTJ6",
        "outputId": "960649e4-bb07-4e9f-8378-e6dca323cbf2"
      },
      "execution_count": null,
      "outputs": [
        {
          "output_type": "execute_result",
          "data": {
            "text/plain": [
              "   Unnamed: 0           0          1\n",
              "0           0  2014-09-15  24268.258\n",
              "1           1  2014-09-22  23060.846\n",
              "2           2  2014-09-29  19722.584\n",
              "3           3  2014-10-06  23193.697\n",
              "4           4  2014-10-13  23898.646"
            ],
            "text/html": [
              "\n",
              "  <div id=\"df-0a52c5d6-3526-4d38-b6fb-e5c9ecb79b3b\">\n",
              "    <div class=\"colab-df-container\">\n",
              "      <div>\n",
              "<style scoped>\n",
              "    .dataframe tbody tr th:only-of-type {\n",
              "        vertical-align: middle;\n",
              "    }\n",
              "\n",
              "    .dataframe tbody tr th {\n",
              "        vertical-align: top;\n",
              "    }\n",
              "\n",
              "    .dataframe thead th {\n",
              "        text-align: right;\n",
              "    }\n",
              "</style>\n",
              "<table border=\"1\" class=\"dataframe\">\n",
              "  <thead>\n",
              "    <tr style=\"text-align: right;\">\n",
              "      <th></th>\n",
              "      <th>Unnamed: 0</th>\n",
              "      <th>0</th>\n",
              "      <th>1</th>\n",
              "    </tr>\n",
              "  </thead>\n",
              "  <tbody>\n",
              "    <tr>\n",
              "      <th>0</th>\n",
              "      <td>0</td>\n",
              "      <td>2014-09-15</td>\n",
              "      <td>24268.258</td>\n",
              "    </tr>\n",
              "    <tr>\n",
              "      <th>1</th>\n",
              "      <td>1</td>\n",
              "      <td>2014-09-22</td>\n",
              "      <td>23060.846</td>\n",
              "    </tr>\n",
              "    <tr>\n",
              "      <th>2</th>\n",
              "      <td>2</td>\n",
              "      <td>2014-09-29</td>\n",
              "      <td>19722.584</td>\n",
              "    </tr>\n",
              "    <tr>\n",
              "      <th>3</th>\n",
              "      <td>3</td>\n",
              "      <td>2014-10-06</td>\n",
              "      <td>23193.697</td>\n",
              "    </tr>\n",
              "    <tr>\n",
              "      <th>4</th>\n",
              "      <td>4</td>\n",
              "      <td>2014-10-13</td>\n",
              "      <td>23898.646</td>\n",
              "    </tr>\n",
              "  </tbody>\n",
              "</table>\n",
              "</div>\n",
              "      <button class=\"colab-df-convert\" onclick=\"convertToInteractive('df-0a52c5d6-3526-4d38-b6fb-e5c9ecb79b3b')\"\n",
              "              title=\"Convert this dataframe to an interactive table.\"\n",
              "              style=\"display:none;\">\n",
              "        \n",
              "  <svg xmlns=\"http://www.w3.org/2000/svg\" height=\"24px\"viewBox=\"0 0 24 24\"\n",
              "       width=\"24px\">\n",
              "    <path d=\"M0 0h24v24H0V0z\" fill=\"none\"/>\n",
              "    <path d=\"M18.56 5.44l.94 2.06.94-2.06 2.06-.94-2.06-.94-.94-2.06-.94 2.06-2.06.94zm-11 1L8.5 8.5l.94-2.06 2.06-.94-2.06-.94L8.5 2.5l-.94 2.06-2.06.94zm10 10l.94 2.06.94-2.06 2.06-.94-2.06-.94-.94-2.06-.94 2.06-2.06.94z\"/><path d=\"M17.41 7.96l-1.37-1.37c-.4-.4-.92-.59-1.43-.59-.52 0-1.04.2-1.43.59L10.3 9.45l-7.72 7.72c-.78.78-.78 2.05 0 2.83L4 21.41c.39.39.9.59 1.41.59.51 0 1.02-.2 1.41-.59l7.78-7.78 2.81-2.81c.8-.78.8-2.07 0-2.86zM5.41 20L4 18.59l7.72-7.72 1.47 1.35L5.41 20z\"/>\n",
              "  </svg>\n",
              "      </button>\n",
              "      \n",
              "  <style>\n",
              "    .colab-df-container {\n",
              "      display:flex;\n",
              "      flex-wrap:wrap;\n",
              "      gap: 12px;\n",
              "    }\n",
              "\n",
              "    .colab-df-convert {\n",
              "      background-color: #E8F0FE;\n",
              "      border: none;\n",
              "      border-radius: 50%;\n",
              "      cursor: pointer;\n",
              "      display: none;\n",
              "      fill: #1967D2;\n",
              "      height: 32px;\n",
              "      padding: 0 0 0 0;\n",
              "      width: 32px;\n",
              "    }\n",
              "\n",
              "    .colab-df-convert:hover {\n",
              "      background-color: #E2EBFA;\n",
              "      box-shadow: 0px 1px 2px rgba(60, 64, 67, 0.3), 0px 1px 3px 1px rgba(60, 64, 67, 0.15);\n",
              "      fill: #174EA6;\n",
              "    }\n",
              "\n",
              "    [theme=dark] .colab-df-convert {\n",
              "      background-color: #3B4455;\n",
              "      fill: #D2E3FC;\n",
              "    }\n",
              "\n",
              "    [theme=dark] .colab-df-convert:hover {\n",
              "      background-color: #434B5C;\n",
              "      box-shadow: 0px 1px 3px 1px rgba(0, 0, 0, 0.15);\n",
              "      filter: drop-shadow(0px 1px 2px rgba(0, 0, 0, 0.3));\n",
              "      fill: #FFFFFF;\n",
              "    }\n",
              "  </style>\n",
              "\n",
              "      <script>\n",
              "        const buttonEl =\n",
              "          document.querySelector('#df-0a52c5d6-3526-4d38-b6fb-e5c9ecb79b3b button.colab-df-convert');\n",
              "        buttonEl.style.display =\n",
              "          google.colab.kernel.accessAllowed ? 'block' : 'none';\n",
              "\n",
              "        async function convertToInteractive(key) {\n",
              "          const element = document.querySelector('#df-0a52c5d6-3526-4d38-b6fb-e5c9ecb79b3b');\n",
              "          const dataTable =\n",
              "            await google.colab.kernel.invokeFunction('convertToInteractive',\n",
              "                                                     [key], {});\n",
              "          if (!dataTable) return;\n",
              "\n",
              "          const docLinkHtml = 'Like what you see? Visit the ' +\n",
              "            '<a target=\"_blank\" href=https://colab.research.google.com/notebooks/data_table.ipynb>data table notebook</a>'\n",
              "            + ' to learn more about interactive tables.';\n",
              "          element.innerHTML = '';\n",
              "          dataTable['output_type'] = 'display_data';\n",
              "          await google.colab.output.renderOutput(dataTable, element);\n",
              "          const docLink = document.createElement('div');\n",
              "          docLink.innerHTML = docLinkHtml;\n",
              "          element.appendChild(docLink);\n",
              "        }\n",
              "      </script>\n",
              "    </div>\n",
              "  </div>\n",
              "  "
            ]
          },
          "metadata": {},
          "execution_count": 9
        }
      ]
    },
    {
      "cell_type": "code",
      "source": [
        "eth_data.head()"
      ],
      "metadata": {
        "colab": {
          "base_uri": "https://localhost:8080/",
          "height": 206
        },
        "id": "N7bjmmVOdaLI",
        "outputId": "aa175351-8a00-4fa4-f0f7-1cd72cc08069"
      },
      "execution_count": null,
      "outputs": [
        {
          "output_type": "execute_result",
          "data": {
            "text/plain": [
              "   Unnamed: 0           0          1\n",
              "0           0  06-11-2017  20063.285\n",
              "1           1  13-11-2017  23038.633\n",
              "2           2  20-11-2017  30480.910\n",
              "3           3  27-11-2017  30052.178\n",
              "4           4  04-12-2017  28477.754"
            ],
            "text/html": [
              "\n",
              "  <div id=\"df-a96ca0e3-1222-48dd-99ac-1a4496a15559\">\n",
              "    <div class=\"colab-df-container\">\n",
              "      <div>\n",
              "<style scoped>\n",
              "    .dataframe tbody tr th:only-of-type {\n",
              "        vertical-align: middle;\n",
              "    }\n",
              "\n",
              "    .dataframe tbody tr th {\n",
              "        vertical-align: top;\n",
              "    }\n",
              "\n",
              "    .dataframe thead th {\n",
              "        text-align: right;\n",
              "    }\n",
              "</style>\n",
              "<table border=\"1\" class=\"dataframe\">\n",
              "  <thead>\n",
              "    <tr style=\"text-align: right;\">\n",
              "      <th></th>\n",
              "      <th>Unnamed: 0</th>\n",
              "      <th>0</th>\n",
              "      <th>1</th>\n",
              "    </tr>\n",
              "  </thead>\n",
              "  <tbody>\n",
              "    <tr>\n",
              "      <th>0</th>\n",
              "      <td>0</td>\n",
              "      <td>06-11-2017</td>\n",
              "      <td>20063.285</td>\n",
              "    </tr>\n",
              "    <tr>\n",
              "      <th>1</th>\n",
              "      <td>1</td>\n",
              "      <td>13-11-2017</td>\n",
              "      <td>23038.633</td>\n",
              "    </tr>\n",
              "    <tr>\n",
              "      <th>2</th>\n",
              "      <td>2</td>\n",
              "      <td>20-11-2017</td>\n",
              "      <td>30480.910</td>\n",
              "    </tr>\n",
              "    <tr>\n",
              "      <th>3</th>\n",
              "      <td>3</td>\n",
              "      <td>27-11-2017</td>\n",
              "      <td>30052.178</td>\n",
              "    </tr>\n",
              "    <tr>\n",
              "      <th>4</th>\n",
              "      <td>4</td>\n",
              "      <td>04-12-2017</td>\n",
              "      <td>28477.754</td>\n",
              "    </tr>\n",
              "  </tbody>\n",
              "</table>\n",
              "</div>\n",
              "      <button class=\"colab-df-convert\" onclick=\"convertToInteractive('df-a96ca0e3-1222-48dd-99ac-1a4496a15559')\"\n",
              "              title=\"Convert this dataframe to an interactive table.\"\n",
              "              style=\"display:none;\">\n",
              "        \n",
              "  <svg xmlns=\"http://www.w3.org/2000/svg\" height=\"24px\"viewBox=\"0 0 24 24\"\n",
              "       width=\"24px\">\n",
              "    <path d=\"M0 0h24v24H0V0z\" fill=\"none\"/>\n",
              "    <path d=\"M18.56 5.44l.94 2.06.94-2.06 2.06-.94-2.06-.94-.94-2.06-.94 2.06-2.06.94zm-11 1L8.5 8.5l.94-2.06 2.06-.94-2.06-.94L8.5 2.5l-.94 2.06-2.06.94zm10 10l.94 2.06.94-2.06 2.06-.94-2.06-.94-.94-2.06-.94 2.06-2.06.94z\"/><path d=\"M17.41 7.96l-1.37-1.37c-.4-.4-.92-.59-1.43-.59-.52 0-1.04.2-1.43.59L10.3 9.45l-7.72 7.72c-.78.78-.78 2.05 0 2.83L4 21.41c.39.39.9.59 1.41.59.51 0 1.02-.2 1.41-.59l7.78-7.78 2.81-2.81c.8-.78.8-2.07 0-2.86zM5.41 20L4 18.59l7.72-7.72 1.47 1.35L5.41 20z\"/>\n",
              "  </svg>\n",
              "      </button>\n",
              "      \n",
              "  <style>\n",
              "    .colab-df-container {\n",
              "      display:flex;\n",
              "      flex-wrap:wrap;\n",
              "      gap: 12px;\n",
              "    }\n",
              "\n",
              "    .colab-df-convert {\n",
              "      background-color: #E8F0FE;\n",
              "      border: none;\n",
              "      border-radius: 50%;\n",
              "      cursor: pointer;\n",
              "      display: none;\n",
              "      fill: #1967D2;\n",
              "      height: 32px;\n",
              "      padding: 0 0 0 0;\n",
              "      width: 32px;\n",
              "    }\n",
              "\n",
              "    .colab-df-convert:hover {\n",
              "      background-color: #E2EBFA;\n",
              "      box-shadow: 0px 1px 2px rgba(60, 64, 67, 0.3), 0px 1px 3px 1px rgba(60, 64, 67, 0.15);\n",
              "      fill: #174EA6;\n",
              "    }\n",
              "\n",
              "    [theme=dark] .colab-df-convert {\n",
              "      background-color: #3B4455;\n",
              "      fill: #D2E3FC;\n",
              "    }\n",
              "\n",
              "    [theme=dark] .colab-df-convert:hover {\n",
              "      background-color: #434B5C;\n",
              "      box-shadow: 0px 1px 3px 1px rgba(0, 0, 0, 0.15);\n",
              "      filter: drop-shadow(0px 1px 2px rgba(0, 0, 0, 0.3));\n",
              "      fill: #FFFFFF;\n",
              "    }\n",
              "  </style>\n",
              "\n",
              "      <script>\n",
              "        const buttonEl =\n",
              "          document.querySelector('#df-a96ca0e3-1222-48dd-99ac-1a4496a15559 button.colab-df-convert');\n",
              "        buttonEl.style.display =\n",
              "          google.colab.kernel.accessAllowed ? 'block' : 'none';\n",
              "\n",
              "        async function convertToInteractive(key) {\n",
              "          const element = document.querySelector('#df-a96ca0e3-1222-48dd-99ac-1a4496a15559');\n",
              "          const dataTable =\n",
              "            await google.colab.kernel.invokeFunction('convertToInteractive',\n",
              "                                                     [key], {});\n",
              "          if (!dataTable) return;\n",
              "\n",
              "          const docLinkHtml = 'Like what you see? Visit the ' +\n",
              "            '<a target=\"_blank\" href=https://colab.research.google.com/notebooks/data_table.ipynb>data table notebook</a>'\n",
              "            + ' to learn more about interactive tables.';\n",
              "          element.innerHTML = '';\n",
              "          dataTable['output_type'] = 'display_data';\n",
              "          await google.colab.output.renderOutput(dataTable, element);\n",
              "          const docLink = document.createElement('div');\n",
              "          docLink.innerHTML = docLinkHtml;\n",
              "          element.appendChild(docLink);\n",
              "        }\n",
              "      </script>\n",
              "    </div>\n",
              "  </div>\n",
              "  "
            ]
          },
          "metadata": {},
          "execution_count": 10
        }
      ]
    },
    {
      "cell_type": "code",
      "source": [
        "ada_data.tail()"
      ],
      "metadata": {
        "colab": {
          "base_uri": "https://localhost:8080/",
          "height": 206
        },
        "id": "THYqsEMjP99q",
        "outputId": "2d1c59dc-3681-490f-8540-66ea9c3ae85d"
      },
      "execution_count": null,
      "outputs": [
        {
          "output_type": "execute_result",
          "data": {
            "text/plain": [
              "     Unnamed: 0           0          1\n",
              "223         223  2022-02-14  69.673980\n",
              "224         224  2022-02-21  64.433390\n",
              "225         225  2022-02-28  62.952427\n",
              "226         226  2022-03-07  61.530390\n",
              "227         227  2022-03-11  60.455710"
            ],
            "text/html": [
              "\n",
              "  <div id=\"df-4278e0c1-c438-4844-bbbc-110ae95078b6\">\n",
              "    <div class=\"colab-df-container\">\n",
              "      <div>\n",
              "<style scoped>\n",
              "    .dataframe tbody tr th:only-of-type {\n",
              "        vertical-align: middle;\n",
              "    }\n",
              "\n",
              "    .dataframe tbody tr th {\n",
              "        vertical-align: top;\n",
              "    }\n",
              "\n",
              "    .dataframe thead th {\n",
              "        text-align: right;\n",
              "    }\n",
              "</style>\n",
              "<table border=\"1\" class=\"dataframe\">\n",
              "  <thead>\n",
              "    <tr style=\"text-align: right;\">\n",
              "      <th></th>\n",
              "      <th>Unnamed: 0</th>\n",
              "      <th>0</th>\n",
              "      <th>1</th>\n",
              "    </tr>\n",
              "  </thead>\n",
              "  <tbody>\n",
              "    <tr>\n",
              "      <th>223</th>\n",
              "      <td>223</td>\n",
              "      <td>2022-02-14</td>\n",
              "      <td>69.673980</td>\n",
              "    </tr>\n",
              "    <tr>\n",
              "      <th>224</th>\n",
              "      <td>224</td>\n",
              "      <td>2022-02-21</td>\n",
              "      <td>64.433390</td>\n",
              "    </tr>\n",
              "    <tr>\n",
              "      <th>225</th>\n",
              "      <td>225</td>\n",
              "      <td>2022-02-28</td>\n",
              "      <td>62.952427</td>\n",
              "    </tr>\n",
              "    <tr>\n",
              "      <th>226</th>\n",
              "      <td>226</td>\n",
              "      <td>2022-03-07</td>\n",
              "      <td>61.530390</td>\n",
              "    </tr>\n",
              "    <tr>\n",
              "      <th>227</th>\n",
              "      <td>227</td>\n",
              "      <td>2022-03-11</td>\n",
              "      <td>60.455710</td>\n",
              "    </tr>\n",
              "  </tbody>\n",
              "</table>\n",
              "</div>\n",
              "      <button class=\"colab-df-convert\" onclick=\"convertToInteractive('df-4278e0c1-c438-4844-bbbc-110ae95078b6')\"\n",
              "              title=\"Convert this dataframe to an interactive table.\"\n",
              "              style=\"display:none;\">\n",
              "        \n",
              "  <svg xmlns=\"http://www.w3.org/2000/svg\" height=\"24px\"viewBox=\"0 0 24 24\"\n",
              "       width=\"24px\">\n",
              "    <path d=\"M0 0h24v24H0V0z\" fill=\"none\"/>\n",
              "    <path d=\"M18.56 5.44l.94 2.06.94-2.06 2.06-.94-2.06-.94-.94-2.06-.94 2.06-2.06.94zm-11 1L8.5 8.5l.94-2.06 2.06-.94-2.06-.94L8.5 2.5l-.94 2.06-2.06.94zm10 10l.94 2.06.94-2.06 2.06-.94-2.06-.94-.94-2.06-.94 2.06-2.06.94z\"/><path d=\"M17.41 7.96l-1.37-1.37c-.4-.4-.92-.59-1.43-.59-.52 0-1.04.2-1.43.59L10.3 9.45l-7.72 7.72c-.78.78-.78 2.05 0 2.83L4 21.41c.39.39.9.59 1.41.59.51 0 1.02-.2 1.41-.59l7.78-7.78 2.81-2.81c.8-.78.8-2.07 0-2.86zM5.41 20L4 18.59l7.72-7.72 1.47 1.35L5.41 20z\"/>\n",
              "  </svg>\n",
              "      </button>\n",
              "      \n",
              "  <style>\n",
              "    .colab-df-container {\n",
              "      display:flex;\n",
              "      flex-wrap:wrap;\n",
              "      gap: 12px;\n",
              "    }\n",
              "\n",
              "    .colab-df-convert {\n",
              "      background-color: #E8F0FE;\n",
              "      border: none;\n",
              "      border-radius: 50%;\n",
              "      cursor: pointer;\n",
              "      display: none;\n",
              "      fill: #1967D2;\n",
              "      height: 32px;\n",
              "      padding: 0 0 0 0;\n",
              "      width: 32px;\n",
              "    }\n",
              "\n",
              "    .colab-df-convert:hover {\n",
              "      background-color: #E2EBFA;\n",
              "      box-shadow: 0px 1px 2px rgba(60, 64, 67, 0.3), 0px 1px 3px 1px rgba(60, 64, 67, 0.15);\n",
              "      fill: #174EA6;\n",
              "    }\n",
              "\n",
              "    [theme=dark] .colab-df-convert {\n",
              "      background-color: #3B4455;\n",
              "      fill: #D2E3FC;\n",
              "    }\n",
              "\n",
              "    [theme=dark] .colab-df-convert:hover {\n",
              "      background-color: #434B5C;\n",
              "      box-shadow: 0px 1px 3px 1px rgba(0, 0, 0, 0.15);\n",
              "      filter: drop-shadow(0px 1px 2px rgba(0, 0, 0, 0.3));\n",
              "      fill: #FFFFFF;\n",
              "    }\n",
              "  </style>\n",
              "\n",
              "      <script>\n",
              "        const buttonEl =\n",
              "          document.querySelector('#df-4278e0c1-c438-4844-bbbc-110ae95078b6 button.colab-df-convert');\n",
              "        buttonEl.style.display =\n",
              "          google.colab.kernel.accessAllowed ? 'block' : 'none';\n",
              "\n",
              "        async function convertToInteractive(key) {\n",
              "          const element = document.querySelector('#df-4278e0c1-c438-4844-bbbc-110ae95078b6');\n",
              "          const dataTable =\n",
              "            await google.colab.kernel.invokeFunction('convertToInteractive',\n",
              "                                                     [key], {});\n",
              "          if (!dataTable) return;\n",
              "\n",
              "          const docLinkHtml = 'Like what you see? Visit the ' +\n",
              "            '<a target=\"_blank\" href=https://colab.research.google.com/notebooks/data_table.ipynb>data table notebook</a>'\n",
              "            + ' to learn more about interactive tables.';\n",
              "          element.innerHTML = '';\n",
              "          dataTable['output_type'] = 'display_data';\n",
              "          await google.colab.output.renderOutput(dataTable, element);\n",
              "          const docLink = document.createElement('div');\n",
              "          docLink.innerHTML = docLinkHtml;\n",
              "          element.appendChild(docLink);\n",
              "        }\n",
              "      </script>\n",
              "    </div>\n",
              "  </div>\n",
              "  "
            ]
          },
          "metadata": {},
          "execution_count": 11
        }
      ]
    },
    {
      "cell_type": "code",
      "source": [
        "btc_data.tail()"
      ],
      "metadata": {
        "colab": {
          "base_uri": "https://localhost:8080/",
          "height": 206
        },
        "id": "81tW7KQZeA5p",
        "outputId": "2ff65a02-6dc2-47d4-803d-d1417e5a105c"
      },
      "execution_count": null,
      "outputs": [
        {
          "output_type": "execute_result",
          "data": {
            "text/plain": [
              "     Unnamed: 0           0          1\n",
              "387         387  2022-02-14  2870256.2\n",
              "388         388  2022-02-21  2830794.5\n",
              "389         389  2022-02-28  2936117.0\n",
              "390         390  2022-03-07  3009494.0\n",
              "391         391  2022-03-11  2971693.5"
            ],
            "text/html": [
              "\n",
              "  <div id=\"df-41a84287-cbd5-4ab7-b5ce-03975a85d5c9\">\n",
              "    <div class=\"colab-df-container\">\n",
              "      <div>\n",
              "<style scoped>\n",
              "    .dataframe tbody tr th:only-of-type {\n",
              "        vertical-align: middle;\n",
              "    }\n",
              "\n",
              "    .dataframe tbody tr th {\n",
              "        vertical-align: top;\n",
              "    }\n",
              "\n",
              "    .dataframe thead th {\n",
              "        text-align: right;\n",
              "    }\n",
              "</style>\n",
              "<table border=\"1\" class=\"dataframe\">\n",
              "  <thead>\n",
              "    <tr style=\"text-align: right;\">\n",
              "      <th></th>\n",
              "      <th>Unnamed: 0</th>\n",
              "      <th>0</th>\n",
              "      <th>1</th>\n",
              "    </tr>\n",
              "  </thead>\n",
              "  <tbody>\n",
              "    <tr>\n",
              "      <th>387</th>\n",
              "      <td>387</td>\n",
              "      <td>2022-02-14</td>\n",
              "      <td>2870256.2</td>\n",
              "    </tr>\n",
              "    <tr>\n",
              "      <th>388</th>\n",
              "      <td>388</td>\n",
              "      <td>2022-02-21</td>\n",
              "      <td>2830794.5</td>\n",
              "    </tr>\n",
              "    <tr>\n",
              "      <th>389</th>\n",
              "      <td>389</td>\n",
              "      <td>2022-02-28</td>\n",
              "      <td>2936117.0</td>\n",
              "    </tr>\n",
              "    <tr>\n",
              "      <th>390</th>\n",
              "      <td>390</td>\n",
              "      <td>2022-03-07</td>\n",
              "      <td>3009494.0</td>\n",
              "    </tr>\n",
              "    <tr>\n",
              "      <th>391</th>\n",
              "      <td>391</td>\n",
              "      <td>2022-03-11</td>\n",
              "      <td>2971693.5</td>\n",
              "    </tr>\n",
              "  </tbody>\n",
              "</table>\n",
              "</div>\n",
              "      <button class=\"colab-df-convert\" onclick=\"convertToInteractive('df-41a84287-cbd5-4ab7-b5ce-03975a85d5c9')\"\n",
              "              title=\"Convert this dataframe to an interactive table.\"\n",
              "              style=\"display:none;\">\n",
              "        \n",
              "  <svg xmlns=\"http://www.w3.org/2000/svg\" height=\"24px\"viewBox=\"0 0 24 24\"\n",
              "       width=\"24px\">\n",
              "    <path d=\"M0 0h24v24H0V0z\" fill=\"none\"/>\n",
              "    <path d=\"M18.56 5.44l.94 2.06.94-2.06 2.06-.94-2.06-.94-.94-2.06-.94 2.06-2.06.94zm-11 1L8.5 8.5l.94-2.06 2.06-.94-2.06-.94L8.5 2.5l-.94 2.06-2.06.94zm10 10l.94 2.06.94-2.06 2.06-.94-2.06-.94-.94-2.06-.94 2.06-2.06.94z\"/><path d=\"M17.41 7.96l-1.37-1.37c-.4-.4-.92-.59-1.43-.59-.52 0-1.04.2-1.43.59L10.3 9.45l-7.72 7.72c-.78.78-.78 2.05 0 2.83L4 21.41c.39.39.9.59 1.41.59.51 0 1.02-.2 1.41-.59l7.78-7.78 2.81-2.81c.8-.78.8-2.07 0-2.86zM5.41 20L4 18.59l7.72-7.72 1.47 1.35L5.41 20z\"/>\n",
              "  </svg>\n",
              "      </button>\n",
              "      \n",
              "  <style>\n",
              "    .colab-df-container {\n",
              "      display:flex;\n",
              "      flex-wrap:wrap;\n",
              "      gap: 12px;\n",
              "    }\n",
              "\n",
              "    .colab-df-convert {\n",
              "      background-color: #E8F0FE;\n",
              "      border: none;\n",
              "      border-radius: 50%;\n",
              "      cursor: pointer;\n",
              "      display: none;\n",
              "      fill: #1967D2;\n",
              "      height: 32px;\n",
              "      padding: 0 0 0 0;\n",
              "      width: 32px;\n",
              "    }\n",
              "\n",
              "    .colab-df-convert:hover {\n",
              "      background-color: #E2EBFA;\n",
              "      box-shadow: 0px 1px 2px rgba(60, 64, 67, 0.3), 0px 1px 3px 1px rgba(60, 64, 67, 0.15);\n",
              "      fill: #174EA6;\n",
              "    }\n",
              "\n",
              "    [theme=dark] .colab-df-convert {\n",
              "      background-color: #3B4455;\n",
              "      fill: #D2E3FC;\n",
              "    }\n",
              "\n",
              "    [theme=dark] .colab-df-convert:hover {\n",
              "      background-color: #434B5C;\n",
              "      box-shadow: 0px 1px 3px 1px rgba(0, 0, 0, 0.15);\n",
              "      filter: drop-shadow(0px 1px 2px rgba(0, 0, 0, 0.3));\n",
              "      fill: #FFFFFF;\n",
              "    }\n",
              "  </style>\n",
              "\n",
              "      <script>\n",
              "        const buttonEl =\n",
              "          document.querySelector('#df-41a84287-cbd5-4ab7-b5ce-03975a85d5c9 button.colab-df-convert');\n",
              "        buttonEl.style.display =\n",
              "          google.colab.kernel.accessAllowed ? 'block' : 'none';\n",
              "\n",
              "        async function convertToInteractive(key) {\n",
              "          const element = document.querySelector('#df-41a84287-cbd5-4ab7-b5ce-03975a85d5c9');\n",
              "          const dataTable =\n",
              "            await google.colab.kernel.invokeFunction('convertToInteractive',\n",
              "                                                     [key], {});\n",
              "          if (!dataTable) return;\n",
              "\n",
              "          const docLinkHtml = 'Like what you see? Visit the ' +\n",
              "            '<a target=\"_blank\" href=https://colab.research.google.com/notebooks/data_table.ipynb>data table notebook</a>'\n",
              "            + ' to learn more about interactive tables.';\n",
              "          element.innerHTML = '';\n",
              "          dataTable['output_type'] = 'display_data';\n",
              "          await google.colab.output.renderOutput(dataTable, element);\n",
              "          const docLink = document.createElement('div');\n",
              "          docLink.innerHTML = docLinkHtml;\n",
              "          element.appendChild(docLink);\n",
              "        }\n",
              "      </script>\n",
              "    </div>\n",
              "  </div>\n",
              "  "
            ]
          },
          "metadata": {},
          "execution_count": 12
        }
      ]
    },
    {
      "cell_type": "code",
      "source": [
        "eth_data.tail()"
      ],
      "metadata": {
        "colab": {
          "base_uri": "https://localhost:8080/",
          "height": 206
        },
        "id": "YYFvt10teFMa",
        "outputId": "f9e8ca5b-9fad-4bb8-a6aa-b7a29f5a9712"
      },
      "execution_count": null,
      "outputs": [
        {
          "output_type": "execute_result",
          "data": {
            "text/plain": [
              "     Unnamed: 0           0          1\n",
              "223         223  14-02-2022  196321.22\n",
              "224         224  21-02-2022  196813.17\n",
              "225         225  28-02-2022  195260.08\n",
              "226         226  07-03-2022  199021.60\n",
              "227         227  11-03-2022  196379.53"
            ],
            "text/html": [
              "\n",
              "  <div id=\"df-ae0ec467-cefd-4a73-a86b-a88740dfc453\">\n",
              "    <div class=\"colab-df-container\">\n",
              "      <div>\n",
              "<style scoped>\n",
              "    .dataframe tbody tr th:only-of-type {\n",
              "        vertical-align: middle;\n",
              "    }\n",
              "\n",
              "    .dataframe tbody tr th {\n",
              "        vertical-align: top;\n",
              "    }\n",
              "\n",
              "    .dataframe thead th {\n",
              "        text-align: right;\n",
              "    }\n",
              "</style>\n",
              "<table border=\"1\" class=\"dataframe\">\n",
              "  <thead>\n",
              "    <tr style=\"text-align: right;\">\n",
              "      <th></th>\n",
              "      <th>Unnamed: 0</th>\n",
              "      <th>0</th>\n",
              "      <th>1</th>\n",
              "    </tr>\n",
              "  </thead>\n",
              "  <tbody>\n",
              "    <tr>\n",
              "      <th>223</th>\n",
              "      <td>223</td>\n",
              "      <td>14-02-2022</td>\n",
              "      <td>196321.22</td>\n",
              "    </tr>\n",
              "    <tr>\n",
              "      <th>224</th>\n",
              "      <td>224</td>\n",
              "      <td>21-02-2022</td>\n",
              "      <td>196813.17</td>\n",
              "    </tr>\n",
              "    <tr>\n",
              "      <th>225</th>\n",
              "      <td>225</td>\n",
              "      <td>28-02-2022</td>\n",
              "      <td>195260.08</td>\n",
              "    </tr>\n",
              "    <tr>\n",
              "      <th>226</th>\n",
              "      <td>226</td>\n",
              "      <td>07-03-2022</td>\n",
              "      <td>199021.60</td>\n",
              "    </tr>\n",
              "    <tr>\n",
              "      <th>227</th>\n",
              "      <td>227</td>\n",
              "      <td>11-03-2022</td>\n",
              "      <td>196379.53</td>\n",
              "    </tr>\n",
              "  </tbody>\n",
              "</table>\n",
              "</div>\n",
              "      <button class=\"colab-df-convert\" onclick=\"convertToInteractive('df-ae0ec467-cefd-4a73-a86b-a88740dfc453')\"\n",
              "              title=\"Convert this dataframe to an interactive table.\"\n",
              "              style=\"display:none;\">\n",
              "        \n",
              "  <svg xmlns=\"http://www.w3.org/2000/svg\" height=\"24px\"viewBox=\"0 0 24 24\"\n",
              "       width=\"24px\">\n",
              "    <path d=\"M0 0h24v24H0V0z\" fill=\"none\"/>\n",
              "    <path d=\"M18.56 5.44l.94 2.06.94-2.06 2.06-.94-2.06-.94-.94-2.06-.94 2.06-2.06.94zm-11 1L8.5 8.5l.94-2.06 2.06-.94-2.06-.94L8.5 2.5l-.94 2.06-2.06.94zm10 10l.94 2.06.94-2.06 2.06-.94-2.06-.94-.94-2.06-.94 2.06-2.06.94z\"/><path d=\"M17.41 7.96l-1.37-1.37c-.4-.4-.92-.59-1.43-.59-.52 0-1.04.2-1.43.59L10.3 9.45l-7.72 7.72c-.78.78-.78 2.05 0 2.83L4 21.41c.39.39.9.59 1.41.59.51 0 1.02-.2 1.41-.59l7.78-7.78 2.81-2.81c.8-.78.8-2.07 0-2.86zM5.41 20L4 18.59l7.72-7.72 1.47 1.35L5.41 20z\"/>\n",
              "  </svg>\n",
              "      </button>\n",
              "      \n",
              "  <style>\n",
              "    .colab-df-container {\n",
              "      display:flex;\n",
              "      flex-wrap:wrap;\n",
              "      gap: 12px;\n",
              "    }\n",
              "\n",
              "    .colab-df-convert {\n",
              "      background-color: #E8F0FE;\n",
              "      border: none;\n",
              "      border-radius: 50%;\n",
              "      cursor: pointer;\n",
              "      display: none;\n",
              "      fill: #1967D2;\n",
              "      height: 32px;\n",
              "      padding: 0 0 0 0;\n",
              "      width: 32px;\n",
              "    }\n",
              "\n",
              "    .colab-df-convert:hover {\n",
              "      background-color: #E2EBFA;\n",
              "      box-shadow: 0px 1px 2px rgba(60, 64, 67, 0.3), 0px 1px 3px 1px rgba(60, 64, 67, 0.15);\n",
              "      fill: #174EA6;\n",
              "    }\n",
              "\n",
              "    [theme=dark] .colab-df-convert {\n",
              "      background-color: #3B4455;\n",
              "      fill: #D2E3FC;\n",
              "    }\n",
              "\n",
              "    [theme=dark] .colab-df-convert:hover {\n",
              "      background-color: #434B5C;\n",
              "      box-shadow: 0px 1px 3px 1px rgba(0, 0, 0, 0.15);\n",
              "      filter: drop-shadow(0px 1px 2px rgba(0, 0, 0, 0.3));\n",
              "      fill: #FFFFFF;\n",
              "    }\n",
              "  </style>\n",
              "\n",
              "      <script>\n",
              "        const buttonEl =\n",
              "          document.querySelector('#df-ae0ec467-cefd-4a73-a86b-a88740dfc453 button.colab-df-convert');\n",
              "        buttonEl.style.display =\n",
              "          google.colab.kernel.accessAllowed ? 'block' : 'none';\n",
              "\n",
              "        async function convertToInteractive(key) {\n",
              "          const element = document.querySelector('#df-ae0ec467-cefd-4a73-a86b-a88740dfc453');\n",
              "          const dataTable =\n",
              "            await google.colab.kernel.invokeFunction('convertToInteractive',\n",
              "                                                     [key], {});\n",
              "          if (!dataTable) return;\n",
              "\n",
              "          const docLinkHtml = 'Like what you see? Visit the ' +\n",
              "            '<a target=\"_blank\" href=https://colab.research.google.com/notebooks/data_table.ipynb>data table notebook</a>'\n",
              "            + ' to learn more about interactive tables.';\n",
              "          element.innerHTML = '';\n",
              "          dataTable['output_type'] = 'display_data';\n",
              "          await google.colab.output.renderOutput(dataTable, element);\n",
              "          const docLink = document.createElement('div');\n",
              "          docLink.innerHTML = docLinkHtml;\n",
              "          element.appendChild(docLink);\n",
              "        }\n",
              "      </script>\n",
              "    </div>\n",
              "  </div>\n",
              "  "
            ]
          },
          "metadata": {},
          "execution_count": 13
        }
      ]
    },
    {
      "cell_type": "code",
      "source": [
        "ada_data.shape"
      ],
      "metadata": {
        "colab": {
          "base_uri": "https://localhost:8080/"
        },
        "id": "RuSPlOcPQDkB",
        "outputId": "930f96ae-340a-4cd3-a7fd-247724654347"
      },
      "execution_count": null,
      "outputs": [
        {
          "output_type": "execute_result",
          "data": {
            "text/plain": [
              "(228, 3)"
            ]
          },
          "metadata": {},
          "execution_count": 14
        }
      ]
    },
    {
      "cell_type": "code",
      "source": [
        "eth_data.shape"
      ],
      "metadata": {
        "colab": {
          "base_uri": "https://localhost:8080/"
        },
        "id": "nubSlKG3eS1w",
        "outputId": "c8a3798e-0305-48db-bdda-530e9654e4a5"
      },
      "execution_count": null,
      "outputs": [
        {
          "output_type": "execute_result",
          "data": {
            "text/plain": [
              "(228, 3)"
            ]
          },
          "metadata": {},
          "execution_count": 17
        }
      ]
    },
    {
      "cell_type": "code",
      "source": [
        "ada_data.describe()"
      ],
      "metadata": {
        "colab": {
          "base_uri": "https://localhost:8080/",
          "height": 300
        },
        "id": "CpwtO32fQLN1",
        "outputId": "3c51f15b-c431-444a-9355-e419aa89dc2f"
      },
      "execution_count": null,
      "outputs": [
        {
          "output_type": "execute_result",
          "data": {
            "text/plain": [
              "       Unnamed: 0           1\n",
              "count   228.00000  228.000000\n",
              "mean    113.50000   35.641926\n",
              "std      65.96211   50.438220\n",
              "min       0.00000    1.562341\n",
              "25%      56.75000    3.916692\n",
              "50%     113.50000    7.887316\n",
              "75%     170.25000   61.545540\n",
              "max     227.00000  212.474900"
            ],
            "text/html": [
              "\n",
              "  <div id=\"df-b9b73057-9cc5-4a41-9671-7bae9fc54316\">\n",
              "    <div class=\"colab-df-container\">\n",
              "      <div>\n",
              "<style scoped>\n",
              "    .dataframe tbody tr th:only-of-type {\n",
              "        vertical-align: middle;\n",
              "    }\n",
              "\n",
              "    .dataframe tbody tr th {\n",
              "        vertical-align: top;\n",
              "    }\n",
              "\n",
              "    .dataframe thead th {\n",
              "        text-align: right;\n",
              "    }\n",
              "</style>\n",
              "<table border=\"1\" class=\"dataframe\">\n",
              "  <thead>\n",
              "    <tr style=\"text-align: right;\">\n",
              "      <th></th>\n",
              "      <th>Unnamed: 0</th>\n",
              "      <th>1</th>\n",
              "    </tr>\n",
              "  </thead>\n",
              "  <tbody>\n",
              "    <tr>\n",
              "      <th>count</th>\n",
              "      <td>228.00000</td>\n",
              "      <td>228.000000</td>\n",
              "    </tr>\n",
              "    <tr>\n",
              "      <th>mean</th>\n",
              "      <td>113.50000</td>\n",
              "      <td>35.641926</td>\n",
              "    </tr>\n",
              "    <tr>\n",
              "      <th>std</th>\n",
              "      <td>65.96211</td>\n",
              "      <td>50.438220</td>\n",
              "    </tr>\n",
              "    <tr>\n",
              "      <th>min</th>\n",
              "      <td>0.00000</td>\n",
              "      <td>1.562341</td>\n",
              "    </tr>\n",
              "    <tr>\n",
              "      <th>25%</th>\n",
              "      <td>56.75000</td>\n",
              "      <td>3.916692</td>\n",
              "    </tr>\n",
              "    <tr>\n",
              "      <th>50%</th>\n",
              "      <td>113.50000</td>\n",
              "      <td>7.887316</td>\n",
              "    </tr>\n",
              "    <tr>\n",
              "      <th>75%</th>\n",
              "      <td>170.25000</td>\n",
              "      <td>61.545540</td>\n",
              "    </tr>\n",
              "    <tr>\n",
              "      <th>max</th>\n",
              "      <td>227.00000</td>\n",
              "      <td>212.474900</td>\n",
              "    </tr>\n",
              "  </tbody>\n",
              "</table>\n",
              "</div>\n",
              "      <button class=\"colab-df-convert\" onclick=\"convertToInteractive('df-b9b73057-9cc5-4a41-9671-7bae9fc54316')\"\n",
              "              title=\"Convert this dataframe to an interactive table.\"\n",
              "              style=\"display:none;\">\n",
              "        \n",
              "  <svg xmlns=\"http://www.w3.org/2000/svg\" height=\"24px\"viewBox=\"0 0 24 24\"\n",
              "       width=\"24px\">\n",
              "    <path d=\"M0 0h24v24H0V0z\" fill=\"none\"/>\n",
              "    <path d=\"M18.56 5.44l.94 2.06.94-2.06 2.06-.94-2.06-.94-.94-2.06-.94 2.06-2.06.94zm-11 1L8.5 8.5l.94-2.06 2.06-.94-2.06-.94L8.5 2.5l-.94 2.06-2.06.94zm10 10l.94 2.06.94-2.06 2.06-.94-2.06-.94-.94-2.06-.94 2.06-2.06.94z\"/><path d=\"M17.41 7.96l-1.37-1.37c-.4-.4-.92-.59-1.43-.59-.52 0-1.04.2-1.43.59L10.3 9.45l-7.72 7.72c-.78.78-.78 2.05 0 2.83L4 21.41c.39.39.9.59 1.41.59.51 0 1.02-.2 1.41-.59l7.78-7.78 2.81-2.81c.8-.78.8-2.07 0-2.86zM5.41 20L4 18.59l7.72-7.72 1.47 1.35L5.41 20z\"/>\n",
              "  </svg>\n",
              "      </button>\n",
              "      \n",
              "  <style>\n",
              "    .colab-df-container {\n",
              "      display:flex;\n",
              "      flex-wrap:wrap;\n",
              "      gap: 12px;\n",
              "    }\n",
              "\n",
              "    .colab-df-convert {\n",
              "      background-color: #E8F0FE;\n",
              "      border: none;\n",
              "      border-radius: 50%;\n",
              "      cursor: pointer;\n",
              "      display: none;\n",
              "      fill: #1967D2;\n",
              "      height: 32px;\n",
              "      padding: 0 0 0 0;\n",
              "      width: 32px;\n",
              "    }\n",
              "\n",
              "    .colab-df-convert:hover {\n",
              "      background-color: #E2EBFA;\n",
              "      box-shadow: 0px 1px 2px rgba(60, 64, 67, 0.3), 0px 1px 3px 1px rgba(60, 64, 67, 0.15);\n",
              "      fill: #174EA6;\n",
              "    }\n",
              "\n",
              "    [theme=dark] .colab-df-convert {\n",
              "      background-color: #3B4455;\n",
              "      fill: #D2E3FC;\n",
              "    }\n",
              "\n",
              "    [theme=dark] .colab-df-convert:hover {\n",
              "      background-color: #434B5C;\n",
              "      box-shadow: 0px 1px 3px 1px rgba(0, 0, 0, 0.15);\n",
              "      filter: drop-shadow(0px 1px 2px rgba(0, 0, 0, 0.3));\n",
              "      fill: #FFFFFF;\n",
              "    }\n",
              "  </style>\n",
              "\n",
              "      <script>\n",
              "        const buttonEl =\n",
              "          document.querySelector('#df-b9b73057-9cc5-4a41-9671-7bae9fc54316 button.colab-df-convert');\n",
              "        buttonEl.style.display =\n",
              "          google.colab.kernel.accessAllowed ? 'block' : 'none';\n",
              "\n",
              "        async function convertToInteractive(key) {\n",
              "          const element = document.querySelector('#df-b9b73057-9cc5-4a41-9671-7bae9fc54316');\n",
              "          const dataTable =\n",
              "            await google.colab.kernel.invokeFunction('convertToInteractive',\n",
              "                                                     [key], {});\n",
              "          if (!dataTable) return;\n",
              "\n",
              "          const docLinkHtml = 'Like what you see? Visit the ' +\n",
              "            '<a target=\"_blank\" href=https://colab.research.google.com/notebooks/data_table.ipynb>data table notebook</a>'\n",
              "            + ' to learn more about interactive tables.';\n",
              "          element.innerHTML = '';\n",
              "          dataTable['output_type'] = 'display_data';\n",
              "          await google.colab.output.renderOutput(dataTable, element);\n",
              "          const docLink = document.createElement('div');\n",
              "          docLink.innerHTML = docLinkHtml;\n",
              "          element.appendChild(docLink);\n",
              "        }\n",
              "      </script>\n",
              "    </div>\n",
              "  </div>\n",
              "  "
            ]
          },
          "metadata": {},
          "execution_count": 18
        }
      ]
    },
    {
      "cell_type": "code",
      "source": [
        "btc_data.describe()"
      ],
      "metadata": {
        "colab": {
          "base_uri": "https://localhost:8080/",
          "height": 300
        },
        "id": "1V4KL-W-fBX5",
        "outputId": "627a4218-a4f4-4826-f40a-bbc9a76dd8b3"
      },
      "execution_count": null,
      "outputs": [
        {
          "output_type": "execute_result",
          "data": {
            "text/plain": [
              "       Unnamed: 0             1\n",
              "count  392.000000  3.920000e+02\n",
              "mean   195.500000  8.471931e+05\n",
              "std    113.304898  1.214738e+06\n",
              "min      0.000000  1.301262e+04\n",
              "25%     97.750000  4.083916e+04\n",
              "50%    195.500000  4.439678e+05\n",
              "75%    293.250000  7.486346e+05\n",
              "max    391.000000  4.867364e+06"
            ],
            "text/html": [
              "\n",
              "  <div id=\"df-15821a87-8369-4c3c-949b-30aee430e70a\">\n",
              "    <div class=\"colab-df-container\">\n",
              "      <div>\n",
              "<style scoped>\n",
              "    .dataframe tbody tr th:only-of-type {\n",
              "        vertical-align: middle;\n",
              "    }\n",
              "\n",
              "    .dataframe tbody tr th {\n",
              "        vertical-align: top;\n",
              "    }\n",
              "\n",
              "    .dataframe thead th {\n",
              "        text-align: right;\n",
              "    }\n",
              "</style>\n",
              "<table border=\"1\" class=\"dataframe\">\n",
              "  <thead>\n",
              "    <tr style=\"text-align: right;\">\n",
              "      <th></th>\n",
              "      <th>Unnamed: 0</th>\n",
              "      <th>1</th>\n",
              "    </tr>\n",
              "  </thead>\n",
              "  <tbody>\n",
              "    <tr>\n",
              "      <th>count</th>\n",
              "      <td>392.000000</td>\n",
              "      <td>3.920000e+02</td>\n",
              "    </tr>\n",
              "    <tr>\n",
              "      <th>mean</th>\n",
              "      <td>195.500000</td>\n",
              "      <td>8.471931e+05</td>\n",
              "    </tr>\n",
              "    <tr>\n",
              "      <th>std</th>\n",
              "      <td>113.304898</td>\n",
              "      <td>1.214738e+06</td>\n",
              "    </tr>\n",
              "    <tr>\n",
              "      <th>min</th>\n",
              "      <td>0.000000</td>\n",
              "      <td>1.301262e+04</td>\n",
              "    </tr>\n",
              "    <tr>\n",
              "      <th>25%</th>\n",
              "      <td>97.750000</td>\n",
              "      <td>4.083916e+04</td>\n",
              "    </tr>\n",
              "    <tr>\n",
              "      <th>50%</th>\n",
              "      <td>195.500000</td>\n",
              "      <td>4.439678e+05</td>\n",
              "    </tr>\n",
              "    <tr>\n",
              "      <th>75%</th>\n",
              "      <td>293.250000</td>\n",
              "      <td>7.486346e+05</td>\n",
              "    </tr>\n",
              "    <tr>\n",
              "      <th>max</th>\n",
              "      <td>391.000000</td>\n",
              "      <td>4.867364e+06</td>\n",
              "    </tr>\n",
              "  </tbody>\n",
              "</table>\n",
              "</div>\n",
              "      <button class=\"colab-df-convert\" onclick=\"convertToInteractive('df-15821a87-8369-4c3c-949b-30aee430e70a')\"\n",
              "              title=\"Convert this dataframe to an interactive table.\"\n",
              "              style=\"display:none;\">\n",
              "        \n",
              "  <svg xmlns=\"http://www.w3.org/2000/svg\" height=\"24px\"viewBox=\"0 0 24 24\"\n",
              "       width=\"24px\">\n",
              "    <path d=\"M0 0h24v24H0V0z\" fill=\"none\"/>\n",
              "    <path d=\"M18.56 5.44l.94 2.06.94-2.06 2.06-.94-2.06-.94-.94-2.06-.94 2.06-2.06.94zm-11 1L8.5 8.5l.94-2.06 2.06-.94-2.06-.94L8.5 2.5l-.94 2.06-2.06.94zm10 10l.94 2.06.94-2.06 2.06-.94-2.06-.94-.94-2.06-.94 2.06-2.06.94z\"/><path d=\"M17.41 7.96l-1.37-1.37c-.4-.4-.92-.59-1.43-.59-.52 0-1.04.2-1.43.59L10.3 9.45l-7.72 7.72c-.78.78-.78 2.05 0 2.83L4 21.41c.39.39.9.59 1.41.59.51 0 1.02-.2 1.41-.59l7.78-7.78 2.81-2.81c.8-.78.8-2.07 0-2.86zM5.41 20L4 18.59l7.72-7.72 1.47 1.35L5.41 20z\"/>\n",
              "  </svg>\n",
              "      </button>\n",
              "      \n",
              "  <style>\n",
              "    .colab-df-container {\n",
              "      display:flex;\n",
              "      flex-wrap:wrap;\n",
              "      gap: 12px;\n",
              "    }\n",
              "\n",
              "    .colab-df-convert {\n",
              "      background-color: #E8F0FE;\n",
              "      border: none;\n",
              "      border-radius: 50%;\n",
              "      cursor: pointer;\n",
              "      display: none;\n",
              "      fill: #1967D2;\n",
              "      height: 32px;\n",
              "      padding: 0 0 0 0;\n",
              "      width: 32px;\n",
              "    }\n",
              "\n",
              "    .colab-df-convert:hover {\n",
              "      background-color: #E2EBFA;\n",
              "      box-shadow: 0px 1px 2px rgba(60, 64, 67, 0.3), 0px 1px 3px 1px rgba(60, 64, 67, 0.15);\n",
              "      fill: #174EA6;\n",
              "    }\n",
              "\n",
              "    [theme=dark] .colab-df-convert {\n",
              "      background-color: #3B4455;\n",
              "      fill: #D2E3FC;\n",
              "    }\n",
              "\n",
              "    [theme=dark] .colab-df-convert:hover {\n",
              "      background-color: #434B5C;\n",
              "      box-shadow: 0px 1px 3px 1px rgba(0, 0, 0, 0.15);\n",
              "      filter: drop-shadow(0px 1px 2px rgba(0, 0, 0, 0.3));\n",
              "      fill: #FFFFFF;\n",
              "    }\n",
              "  </style>\n",
              "\n",
              "      <script>\n",
              "        const buttonEl =\n",
              "          document.querySelector('#df-15821a87-8369-4c3c-949b-30aee430e70a button.colab-df-convert');\n",
              "        buttonEl.style.display =\n",
              "          google.colab.kernel.accessAllowed ? 'block' : 'none';\n",
              "\n",
              "        async function convertToInteractive(key) {\n",
              "          const element = document.querySelector('#df-15821a87-8369-4c3c-949b-30aee430e70a');\n",
              "          const dataTable =\n",
              "            await google.colab.kernel.invokeFunction('convertToInteractive',\n",
              "                                                     [key], {});\n",
              "          if (!dataTable) return;\n",
              "\n",
              "          const docLinkHtml = 'Like what you see? Visit the ' +\n",
              "            '<a target=\"_blank\" href=https://colab.research.google.com/notebooks/data_table.ipynb>data table notebook</a>'\n",
              "            + ' to learn more about interactive tables.';\n",
              "          element.innerHTML = '';\n",
              "          dataTable['output_type'] = 'display_data';\n",
              "          await google.colab.output.renderOutput(dataTable, element);\n",
              "          const docLink = document.createElement('div');\n",
              "          docLink.innerHTML = docLinkHtml;\n",
              "          element.appendChild(docLink);\n",
              "        }\n",
              "      </script>\n",
              "    </div>\n",
              "  </div>\n",
              "  "
            ]
          },
          "metadata": {},
          "execution_count": 19
        }
      ]
    },
    {
      "cell_type": "code",
      "source": [
        "eth_data.describe()"
      ],
      "metadata": {
        "colab": {
          "base_uri": "https://localhost:8080/",
          "height": 300
        },
        "id": "nTKQ3o7gfGUA",
        "outputId": "a9182e7e-0fe9-430d-a8ec-85758a6a6b07"
      },
      "execution_count": null,
      "outputs": [
        {
          "output_type": "execute_result",
          "data": {
            "text/plain": [
              "       Unnamed: 0              1\n",
              "count   228.00000     228.000000\n",
              "mean    113.50000   74864.403026\n",
              "std      65.96211   91941.510254\n",
              "min       0.00000    6132.125000\n",
              "25%      56.75000   14218.011000\n",
              "50%     113.50000   27773.776500\n",
              "75%     170.25000  118764.447500\n",
              "max     227.00000  343963.030000"
            ],
            "text/html": [
              "\n",
              "  <div id=\"df-9c2f57fb-0a89-4b2b-a932-705168fca3c7\">\n",
              "    <div class=\"colab-df-container\">\n",
              "      <div>\n",
              "<style scoped>\n",
              "    .dataframe tbody tr th:only-of-type {\n",
              "        vertical-align: middle;\n",
              "    }\n",
              "\n",
              "    .dataframe tbody tr th {\n",
              "        vertical-align: top;\n",
              "    }\n",
              "\n",
              "    .dataframe thead th {\n",
              "        text-align: right;\n",
              "    }\n",
              "</style>\n",
              "<table border=\"1\" class=\"dataframe\">\n",
              "  <thead>\n",
              "    <tr style=\"text-align: right;\">\n",
              "      <th></th>\n",
              "      <th>Unnamed: 0</th>\n",
              "      <th>1</th>\n",
              "    </tr>\n",
              "  </thead>\n",
              "  <tbody>\n",
              "    <tr>\n",
              "      <th>count</th>\n",
              "      <td>228.00000</td>\n",
              "      <td>228.000000</td>\n",
              "    </tr>\n",
              "    <tr>\n",
              "      <th>mean</th>\n",
              "      <td>113.50000</td>\n",
              "      <td>74864.403026</td>\n",
              "    </tr>\n",
              "    <tr>\n",
              "      <th>std</th>\n",
              "      <td>65.96211</td>\n",
              "      <td>91941.510254</td>\n",
              "    </tr>\n",
              "    <tr>\n",
              "      <th>min</th>\n",
              "      <td>0.00000</td>\n",
              "      <td>6132.125000</td>\n",
              "    </tr>\n",
              "    <tr>\n",
              "      <th>25%</th>\n",
              "      <td>56.75000</td>\n",
              "      <td>14218.011000</td>\n",
              "    </tr>\n",
              "    <tr>\n",
              "      <th>50%</th>\n",
              "      <td>113.50000</td>\n",
              "      <td>27773.776500</td>\n",
              "    </tr>\n",
              "    <tr>\n",
              "      <th>75%</th>\n",
              "      <td>170.25000</td>\n",
              "      <td>118764.447500</td>\n",
              "    </tr>\n",
              "    <tr>\n",
              "      <th>max</th>\n",
              "      <td>227.00000</td>\n",
              "      <td>343963.030000</td>\n",
              "    </tr>\n",
              "  </tbody>\n",
              "</table>\n",
              "</div>\n",
              "      <button class=\"colab-df-convert\" onclick=\"convertToInteractive('df-9c2f57fb-0a89-4b2b-a932-705168fca3c7')\"\n",
              "              title=\"Convert this dataframe to an interactive table.\"\n",
              "              style=\"display:none;\">\n",
              "        \n",
              "  <svg xmlns=\"http://www.w3.org/2000/svg\" height=\"24px\"viewBox=\"0 0 24 24\"\n",
              "       width=\"24px\">\n",
              "    <path d=\"M0 0h24v24H0V0z\" fill=\"none\"/>\n",
              "    <path d=\"M18.56 5.44l.94 2.06.94-2.06 2.06-.94-2.06-.94-.94-2.06-.94 2.06-2.06.94zm-11 1L8.5 8.5l.94-2.06 2.06-.94-2.06-.94L8.5 2.5l-.94 2.06-2.06.94zm10 10l.94 2.06.94-2.06 2.06-.94-2.06-.94-.94-2.06-.94 2.06-2.06.94z\"/><path d=\"M17.41 7.96l-1.37-1.37c-.4-.4-.92-.59-1.43-.59-.52 0-1.04.2-1.43.59L10.3 9.45l-7.72 7.72c-.78.78-.78 2.05 0 2.83L4 21.41c.39.39.9.59 1.41.59.51 0 1.02-.2 1.41-.59l7.78-7.78 2.81-2.81c.8-.78.8-2.07 0-2.86zM5.41 20L4 18.59l7.72-7.72 1.47 1.35L5.41 20z\"/>\n",
              "  </svg>\n",
              "      </button>\n",
              "      \n",
              "  <style>\n",
              "    .colab-df-container {\n",
              "      display:flex;\n",
              "      flex-wrap:wrap;\n",
              "      gap: 12px;\n",
              "    }\n",
              "\n",
              "    .colab-df-convert {\n",
              "      background-color: #E8F0FE;\n",
              "      border: none;\n",
              "      border-radius: 50%;\n",
              "      cursor: pointer;\n",
              "      display: none;\n",
              "      fill: #1967D2;\n",
              "      height: 32px;\n",
              "      padding: 0 0 0 0;\n",
              "      width: 32px;\n",
              "    }\n",
              "\n",
              "    .colab-df-convert:hover {\n",
              "      background-color: #E2EBFA;\n",
              "      box-shadow: 0px 1px 2px rgba(60, 64, 67, 0.3), 0px 1px 3px 1px rgba(60, 64, 67, 0.15);\n",
              "      fill: #174EA6;\n",
              "    }\n",
              "\n",
              "    [theme=dark] .colab-df-convert {\n",
              "      background-color: #3B4455;\n",
              "      fill: #D2E3FC;\n",
              "    }\n",
              "\n",
              "    [theme=dark] .colab-df-convert:hover {\n",
              "      background-color: #434B5C;\n",
              "      box-shadow: 0px 1px 3px 1px rgba(0, 0, 0, 0.15);\n",
              "      filter: drop-shadow(0px 1px 2px rgba(0, 0, 0, 0.3));\n",
              "      fill: #FFFFFF;\n",
              "    }\n",
              "  </style>\n",
              "\n",
              "      <script>\n",
              "        const buttonEl =\n",
              "          document.querySelector('#df-9c2f57fb-0a89-4b2b-a932-705168fca3c7 button.colab-df-convert');\n",
              "        buttonEl.style.display =\n",
              "          google.colab.kernel.accessAllowed ? 'block' : 'none';\n",
              "\n",
              "        async function convertToInteractive(key) {\n",
              "          const element = document.querySelector('#df-9c2f57fb-0a89-4b2b-a932-705168fca3c7');\n",
              "          const dataTable =\n",
              "            await google.colab.kernel.invokeFunction('convertToInteractive',\n",
              "                                                     [key], {});\n",
              "          if (!dataTable) return;\n",
              "\n",
              "          const docLinkHtml = 'Like what you see? Visit the ' +\n",
              "            '<a target=\"_blank\" href=https://colab.research.google.com/notebooks/data_table.ipynb>data table notebook</a>'\n",
              "            + ' to learn more about interactive tables.';\n",
              "          element.innerHTML = '';\n",
              "          dataTable['output_type'] = 'display_data';\n",
              "          await google.colab.output.renderOutput(dataTable, element);\n",
              "          const docLink = document.createElement('div');\n",
              "          docLink.innerHTML = docLinkHtml;\n",
              "          element.appendChild(docLink);\n",
              "        }\n",
              "      </script>\n",
              "    </div>\n",
              "  </div>\n",
              "  "
            ]
          },
          "metadata": {},
          "execution_count": 20
        }
      ]
    },
    {
      "cell_type": "code",
      "source": [
        "ada_data.columns"
      ],
      "metadata": {
        "colab": {
          "base_uri": "https://localhost:8080/"
        },
        "id": "KEaGLmHeQNYh",
        "outputId": "1be36153-a624-442c-d90c-2ef1f6fdd95f"
      },
      "execution_count": null,
      "outputs": [
        {
          "output_type": "execute_result",
          "data": {
            "text/plain": [
              "Index(['Unnamed: 0', '0', '1'], dtype='object')"
            ]
          },
          "metadata": {},
          "execution_count": 21
        }
      ]
    },
    {
      "cell_type": "code",
      "source": [
        "btc_data.columns"
      ],
      "metadata": {
        "colab": {
          "base_uri": "https://localhost:8080/"
        },
        "id": "fve2uhM5fNYf",
        "outputId": "382dbc31-970c-4017-86a9-cb25a1ac38c6"
      },
      "execution_count": null,
      "outputs": [
        {
          "output_type": "execute_result",
          "data": {
            "text/plain": [
              "Index(['Unnamed: 0', '0', '1'], dtype='object')"
            ]
          },
          "metadata": {},
          "execution_count": 22
        }
      ]
    },
    {
      "cell_type": "code",
      "source": [
        "eth_data.columns"
      ],
      "metadata": {
        "colab": {
          "base_uri": "https://localhost:8080/"
        },
        "id": "hhW0w3qHfUIb",
        "outputId": "7909e654-1850-4a79-dbf1-7237d6fea844"
      },
      "execution_count": null,
      "outputs": [
        {
          "output_type": "execute_result",
          "data": {
            "text/plain": [
              "Index(['Unnamed: 0', '0', '1'], dtype='object')"
            ]
          },
          "metadata": {},
          "execution_count": 23
        }
      ]
    },
    {
      "cell_type": "code",
      "source": [
        "ada_data.nunique()"
      ],
      "metadata": {
        "colab": {
          "base_uri": "https://localhost:8080/"
        },
        "id": "B02vY-XQQeVm",
        "outputId": "451b16dc-b26b-46fa-adcd-bdf549abfc50"
      },
      "execution_count": null,
      "outputs": [
        {
          "output_type": "execute_result",
          "data": {
            "text/plain": [
              "Unnamed: 0    228\n",
              "0             228\n",
              "1             228\n",
              "dtype: int64"
            ]
          },
          "metadata": {},
          "execution_count": 24
        }
      ]
    },
    {
      "cell_type": "code",
      "source": [
        "btc_data.nunique()"
      ],
      "metadata": {
        "colab": {
          "base_uri": "https://localhost:8080/"
        },
        "id": "TEVLtpPwfbOm",
        "outputId": "187a4927-1bb8-4c3a-b01f-9632a3d5d160"
      },
      "execution_count": null,
      "outputs": [
        {
          "output_type": "execute_result",
          "data": {
            "text/plain": [
              "Unnamed: 0    392\n",
              "0             392\n",
              "1             392\n",
              "dtype: int64"
            ]
          },
          "metadata": {},
          "execution_count": 25
        }
      ]
    },
    {
      "cell_type": "code",
      "source": [
        "eth_data.nunique()"
      ],
      "metadata": {
        "colab": {
          "base_uri": "https://localhost:8080/"
        },
        "id": "5oyn0xbVfgOK",
        "outputId": "4ba22e8c-9f1a-4113-ea74-08f43916a9c4"
      },
      "execution_count": null,
      "outputs": [
        {
          "output_type": "execute_result",
          "data": {
            "text/plain": [
              "Unnamed: 0    228\n",
              "0             228\n",
              "1             228\n",
              "dtype: int64"
            ]
          },
          "metadata": {},
          "execution_count": 26
        }
      ]
    },
    {
      "cell_type": "code",
      "source": [
        "ada_data['Unnamed: 0'].unique()"
      ],
      "metadata": {
        "colab": {
          "base_uri": "https://localhost:8080/"
        },
        "id": "tjX77CSDQglG",
        "outputId": "8f5350e5-6ecb-4e08-8b35-a34307267f4b"
      },
      "execution_count": null,
      "outputs": [
        {
          "output_type": "execute_result",
          "data": {
            "text/plain": [
              "array([  0,   1,   2,   3,   4,   5,   6,   7,   8,   9,  10,  11,  12,\n",
              "        13,  14,  15,  16,  17,  18,  19,  20,  21,  22,  23,  24,  25,\n",
              "        26,  27,  28,  29,  30,  31,  32,  33,  34,  35,  36,  37,  38,\n",
              "        39,  40,  41,  42,  43,  44,  45,  46,  47,  48,  49,  50,  51,\n",
              "        52,  53,  54,  55,  56,  57,  58,  59,  60,  61,  62,  63,  64,\n",
              "        65,  66,  67,  68,  69,  70,  71,  72,  73,  74,  75,  76,  77,\n",
              "        78,  79,  80,  81,  82,  83,  84,  85,  86,  87,  88,  89,  90,\n",
              "        91,  92,  93,  94,  95,  96,  97,  98,  99, 100, 101, 102, 103,\n",
              "       104, 105, 106, 107, 108, 109, 110, 111, 112, 113, 114, 115, 116,\n",
              "       117, 118, 119, 120, 121, 122, 123, 124, 125, 126, 127, 128, 129,\n",
              "       130, 131, 132, 133, 134, 135, 136, 137, 138, 139, 140, 141, 142,\n",
              "       143, 144, 145, 146, 147, 148, 149, 150, 151, 152, 153, 154, 155,\n",
              "       156, 157, 158, 159, 160, 161, 162, 163, 164, 165, 166, 167, 168,\n",
              "       169, 170, 171, 172, 173, 174, 175, 176, 177, 178, 179, 180, 181,\n",
              "       182, 183, 184, 185, 186, 187, 188, 189, 190, 191, 192, 193, 194,\n",
              "       195, 196, 197, 198, 199, 200, 201, 202, 203, 204, 205, 206, 207,\n",
              "       208, 209, 210, 211, 212, 213, 214, 215, 216, 217, 218, 219, 220,\n",
              "       221, 222, 223, 224, 225, 226, 227])"
            ]
          },
          "metadata": {},
          "execution_count": 27
        }
      ]
    },
    {
      "cell_type": "code",
      "source": [
        "ada_data['0'].unique()"
      ],
      "metadata": {
        "colab": {
          "base_uri": "https://localhost:8080/"
        },
        "id": "gGhZuk5PgAJO",
        "outputId": "5b25090f-58d9-4dd4-8998-da23fb03955a"
      },
      "execution_count": null,
      "outputs": [
        {
          "output_type": "execute_result",
          "data": {
            "text/plain": [
              "array(['2017-11-06', '2017-11-13', '2017-11-20', '2017-11-27',\n",
              "       '2017-12-04', '2017-12-11', '2017-12-18', '2017-12-25',\n",
              "       '2018-01-01', '2018-01-08', '2018-01-15', '2018-01-22',\n",
              "       '2018-01-29', '2018-02-05', '2018-02-12', '2018-02-19',\n",
              "       '2018-02-26', '2018-03-05', '2018-03-12', '2018-03-19',\n",
              "       '2018-03-26', '2018-04-02', '2018-04-09', '2018-04-16',\n",
              "       '2018-04-23', '2018-04-30', '2018-05-07', '2018-05-14',\n",
              "       '2018-05-21', '2018-05-28', '2018-06-04', '2018-06-11',\n",
              "       '2018-06-18', '2018-06-25', '2018-07-02', '2018-07-09',\n",
              "       '2018-07-16', '2018-07-23', '2018-07-30', '2018-08-06',\n",
              "       '2018-08-13', '2018-08-20', '2018-08-27', '2018-09-03',\n",
              "       '2018-09-10', '2018-09-17', '2018-09-24', '2018-10-01',\n",
              "       '2018-10-08', '2018-10-15', '2018-10-22', '2018-10-29',\n",
              "       '2018-11-05', '2018-11-12', '2018-11-19', '2018-11-26',\n",
              "       '2018-12-03', '2018-12-10', '2018-12-17', '2018-12-24',\n",
              "       '2018-12-31', '2019-01-07', '2019-01-14', '2019-01-21',\n",
              "       '2019-01-28', '2019-02-04', '2019-02-11', '2019-02-18',\n",
              "       '2019-02-25', '2019-03-04', '2019-03-11', '2019-03-18',\n",
              "       '2019-03-25', '2019-04-01', '2019-04-08', '2019-04-15',\n",
              "       '2019-04-22', '2019-04-29', '2019-05-06', '2019-05-13',\n",
              "       '2019-05-20', '2019-05-27', '2019-06-03', '2019-06-10',\n",
              "       '2019-06-17', '2019-06-24', '2019-07-01', '2019-07-08',\n",
              "       '2019-07-15', '2019-07-22', '2019-07-29', '2019-08-05',\n",
              "       '2019-08-12', '2019-08-19', '2019-08-26', '2019-09-02',\n",
              "       '2019-09-09', '2019-09-16', '2019-09-23', '2019-09-30',\n",
              "       '2019-10-07', '2019-10-14', '2019-10-21', '2019-10-28',\n",
              "       '2019-11-04', '2019-11-11', '2019-11-18', '2019-11-25',\n",
              "       '2019-12-02', '2019-12-09', '2019-12-16', '2019-12-23',\n",
              "       '2019-12-30', '2020-01-06', '2020-01-13', '2020-01-20',\n",
              "       '2020-01-27', '2020-02-03', '2020-02-10', '2020-02-17',\n",
              "       '2020-02-24', '2020-03-02', '2020-03-09', '2020-03-16',\n",
              "       '2020-03-23', '2020-03-30', '2020-04-06', '2020-04-13',\n",
              "       '2020-04-20', '2020-04-27', '2020-05-04', '2020-05-11',\n",
              "       '2020-05-18', '2020-05-25', '2020-06-01', '2020-06-08',\n",
              "       '2020-06-15', '2020-06-22', '2020-06-29', '2020-07-06',\n",
              "       '2020-07-13', '2020-07-20', '2020-07-27', '2020-08-03',\n",
              "       '2020-08-10', '2020-08-17', '2020-08-24', '2020-08-31',\n",
              "       '2020-09-07', '2020-09-14', '2020-09-21', '2020-09-28',\n",
              "       '2020-10-05', '2020-10-12', '2020-10-19', '2020-10-26',\n",
              "       '2020-11-02', '2020-11-09', '2020-11-16', '2020-11-23',\n",
              "       '2020-11-30', '2020-12-07', '2020-12-14', '2020-12-21',\n",
              "       '2020-12-28', '2021-01-04', '2021-01-11', '2021-01-18',\n",
              "       '2021-01-25', '2021-02-01', '2021-02-08', '2021-02-15',\n",
              "       '2021-02-22', '2021-03-01', '2021-03-08', '2021-03-15',\n",
              "       '2021-03-22', '2021-03-29', '2021-04-05', '2021-04-12',\n",
              "       '2021-04-19', '2021-04-26', '2021-05-03', '2021-05-10',\n",
              "       '2021-05-17', '2021-05-24', '2021-05-31', '2021-06-07',\n",
              "       '2021-06-14', '2021-06-21', '2021-06-28', '2021-07-05',\n",
              "       '2021-07-12', '2021-07-19', '2021-07-26', '2021-08-02',\n",
              "       '2021-08-09', '2021-08-16', '2021-08-23', '2021-08-30',\n",
              "       '2021-09-06', '2021-09-13', '2021-09-20', '2021-09-27',\n",
              "       '2021-10-04', '2021-10-11', '2021-10-18', '2021-10-25',\n",
              "       '2021-11-01', '2021-11-08', '2021-11-15', '2021-11-22',\n",
              "       '2021-11-29', '2021-12-06', '2021-12-13', '2021-12-20',\n",
              "       '2021-12-27', '2022-01-03', '2022-01-10', '2022-01-17',\n",
              "       '2022-01-24', '2022-01-31', '2022-02-07', '2022-02-14',\n",
              "       '2022-02-21', '2022-02-28', '2022-03-07', '2022-03-11'],\n",
              "      dtype=object)"
            ]
          },
          "metadata": {},
          "execution_count": 29
        }
      ]
    },
    {
      "cell_type": "code",
      "source": [
        "ada_data['1'].unique()"
      ],
      "metadata": {
        "colab": {
          "base_uri": "https://localhost:8080/"
        },
        "id": "GXPpWPL6gM_m",
        "outputId": "d583f290-aa6f-4858-ce45-921a9ed4a38c"
      },
      "execution_count": null,
      "outputs": [
        {
          "output_type": "execute_result",
          "data": {
            "text/plain": [
              "array([  1.562341,   1.825773,   2.34959 ,   8.50287 ,   7.109816,\n",
              "        32.868614,  24.965757,  45.93813 ,  63.86957 ,  51.023865,\n",
              "        39.13206 ,  42.61008 ,  24.32091 ,  23.790937,  24.7721  ,\n",
              "        22.258936,  19.61432 ,  14.55419 ,  10.146952,  11.995633,\n",
              "         9.816504,  10.166407,  14.445697,  18.902418,  24.316446,\n",
              "        23.384903,  19.266129,  17.413406,  13.109615,  15.284037,\n",
              "        11.942128,  10.982715,   9.005226,   9.734137,  10.002764,\n",
              "         9.743524,  11.703138,  11.203272,   9.028157,   7.781938,\n",
              "         7.179809,   6.529905,   7.414672,   5.501435,   5.028205,\n",
              "         6.483733,   6.177857,   6.255381,   5.253308,   5.574798,\n",
              "         5.351025,   5.560177,   5.548293,   4.444624,   2.66517 ,\n",
              "         2.907446,   2.262059,   2.093127,   3.102334,   3.025743,\n",
              "         3.425368,   2.832113,   3.097295,   2.922355,   2.717702,\n",
              "         3.047739,   2.956786,   3.016112,   3.00413 ,   3.198771,\n",
              "         3.462404,   4.268078,   4.838933,   6.258839,   5.85484 ,\n",
              "         5.14075 ,   4.791216,   4.575859,   4.901275,   6.115174,\n",
              "         5.966941,   6.719847,   5.511682,   6.442122,   6.724502,\n",
              "         5.66067 ,   5.47356 ,   4.074326,   4.213189,   4.096594,\n",
              "         3.920211,   3.906135,   3.609222,   3.535451,   3.195507,\n",
              "         3.348797,   3.324192,   3.496762,   2.643023,   2.785144,\n",
              "         2.930913,   2.808106,   2.998994,   2.95701 ,   3.137296,\n",
              "         3.254155,   2.554962,   2.840403,   2.776691,   2.590909,\n",
              "         2.450555,   2.448958,   2.491736,   2.674596,   2.982545,\n",
              "         3.179799,   3.987344,   4.42033 ,   4.481487,   4.421636,\n",
              "         3.315174,   3.203713,   2.004832,   2.046212,   2.129846,\n",
              "         2.439893,   2.575206,   2.742439,   3.499698,   3.695754,\n",
              "         3.601204,   3.893366,   4.000485,   5.615298,   6.543957,\n",
              "         5.829533,   5.983938,   6.079235,   7.334329,   9.528871,\n",
              "         9.265697,  11.072533,  10.001905,  10.896957,  10.371898,\n",
              "         9.110153,   8.588024,   6.82039 ,   6.969906,   6.576438,\n",
              "         7.464805,   7.064511,   7.778845,   7.887023,   7.852519,\n",
              "         7.328974,   7.88761 ,   7.493379,  10.734138,  12.322853,\n",
              "        11.724839,  11.353396,  11.921779,  11.384799,  14.982499,\n",
              "        22.366007,  27.784744,  25.831854,  25.146662,  48.28043 ,\n",
              "        61.59099 ,  79.8563  ,  96.395836,  82.94345 ,  76.99026 ,\n",
              "        86.10861 ,  86.29388 ,  87.42193 ,  94.66275 ,  95.10575 ,\n",
              "        81.47552 ,  98.31024 , 129.76546 , 169.20982 ,  96.637634,\n",
              "       114.18512 , 122.36099 , 114.12149 , 105.96588 ,  99.09932 ,\n",
              "       108.60856 , 100.43256 ,  88.299644,  91.46089 ,  98.0119  ,\n",
              "       106.361404, 160.98816 , 201.6345  , 209.90598 , 212.4749  ,\n",
              "       189.8203  , 168.19708 , 163.01595 , 167.05585 , 165.46349 ,\n",
              "       161.78546 , 159.24481 , 147.2348  , 150.0079  , 151.73442 ,\n",
              "       136.73166 , 119.54445 , 103.69783 , 102.028885,  94.62323 ,\n",
              "       109.7785  , 102.64449 ,  87.166   , 104.531746,  83.52445 ,\n",
              "        77.85871 ,  85.43152 ,  78.91732 ,  69.67398 ,  64.43339 ,\n",
              "        62.952427,  61.53039 ,  60.45571 ])"
            ]
          },
          "metadata": {},
          "execution_count": 30
        }
      ]
    },
    {
      "cell_type": "code",
      "source": [
        "btc_data['Unnamed: 0'].unique()"
      ],
      "metadata": {
        "colab": {
          "base_uri": "https://localhost:8080/"
        },
        "id": "xoa4hRQdgVIi",
        "outputId": "1e55aeeb-bb04-4dc7-9289-8c324add3ca7"
      },
      "execution_count": null,
      "outputs": [
        {
          "output_type": "execute_result",
          "data": {
            "text/plain": [
              "array([  0,   1,   2,   3,   4,   5,   6,   7,   8,   9,  10,  11,  12,\n",
              "        13,  14,  15,  16,  17,  18,  19,  20,  21,  22,  23,  24,  25,\n",
              "        26,  27,  28,  29,  30,  31,  32,  33,  34,  35,  36,  37,  38,\n",
              "        39,  40,  41,  42,  43,  44,  45,  46,  47,  48,  49,  50,  51,\n",
              "        52,  53,  54,  55,  56,  57,  58,  59,  60,  61,  62,  63,  64,\n",
              "        65,  66,  67,  68,  69,  70,  71,  72,  73,  74,  75,  76,  77,\n",
              "        78,  79,  80,  81,  82,  83,  84,  85,  86,  87,  88,  89,  90,\n",
              "        91,  92,  93,  94,  95,  96,  97,  98,  99, 100, 101, 102, 103,\n",
              "       104, 105, 106, 107, 108, 109, 110, 111, 112, 113, 114, 115, 116,\n",
              "       117, 118, 119, 120, 121, 122, 123, 124, 125, 126, 127, 128, 129,\n",
              "       130, 131, 132, 133, 134, 135, 136, 137, 138, 139, 140, 141, 142,\n",
              "       143, 144, 145, 146, 147, 148, 149, 150, 151, 152, 153, 154, 155,\n",
              "       156, 157, 158, 159, 160, 161, 162, 163, 164, 165, 166, 167, 168,\n",
              "       169, 170, 171, 172, 173, 174, 175, 176, 177, 178, 179, 180, 181,\n",
              "       182, 183, 184, 185, 186, 187, 188, 189, 190, 191, 192, 193, 194,\n",
              "       195, 196, 197, 198, 199, 200, 201, 202, 203, 204, 205, 206, 207,\n",
              "       208, 209, 210, 211, 212, 213, 214, 215, 216, 217, 218, 219, 220,\n",
              "       221, 222, 223, 224, 225, 226, 227, 228, 229, 230, 231, 232, 233,\n",
              "       234, 235, 236, 237, 238, 239, 240, 241, 242, 243, 244, 245, 246,\n",
              "       247, 248, 249, 250, 251, 252, 253, 254, 255, 256, 257, 258, 259,\n",
              "       260, 261, 262, 263, 264, 265, 266, 267, 268, 269, 270, 271, 272,\n",
              "       273, 274, 275, 276, 277, 278, 279, 280, 281, 282, 283, 284, 285,\n",
              "       286, 287, 288, 289, 290, 291, 292, 293, 294, 295, 296, 297, 298,\n",
              "       299, 300, 301, 302, 303, 304, 305, 306, 307, 308, 309, 310, 311,\n",
              "       312, 313, 314, 315, 316, 317, 318, 319, 320, 321, 322, 323, 324,\n",
              "       325, 326, 327, 328, 329, 330, 331, 332, 333, 334, 335, 336, 337,\n",
              "       338, 339, 340, 341, 342, 343, 344, 345, 346, 347, 348, 349, 350,\n",
              "       351, 352, 353, 354, 355, 356, 357, 358, 359, 360, 361, 362, 363,\n",
              "       364, 365, 366, 367, 368, 369, 370, 371, 372, 373, 374, 375, 376,\n",
              "       377, 378, 379, 380, 381, 382, 383, 384, 385, 386, 387, 388, 389,\n",
              "       390, 391])"
            ]
          },
          "metadata": {},
          "execution_count": 31
        }
      ]
    },
    {
      "cell_type": "code",
      "source": [
        "btc_data['0'].unique()"
      ],
      "metadata": {
        "colab": {
          "base_uri": "https://localhost:8080/"
        },
        "id": "7Qxh8BMxgtgv",
        "outputId": "cb1175fd-50b2-4493-d133-c870aabd0348"
      },
      "execution_count": null,
      "outputs": [
        {
          "output_type": "execute_result",
          "data": {
            "text/plain": [
              "array(['2014-09-15', '2014-09-22', '2014-09-29', '2014-10-06',\n",
              "       '2014-10-13', '2014-10-20', '2014-10-27', '2014-11-03',\n",
              "       '2014-11-10', '2014-11-17', '2014-11-24', '2014-12-01',\n",
              "       '2014-12-08', '2014-12-15', '2014-12-22', '2014-12-29',\n",
              "       '2015-01-05', '2015-01-12', '2015-01-19', '2015-01-26',\n",
              "       '2015-02-02', '2015-02-09', '2015-02-16', '2015-02-23',\n",
              "       '2015-03-02', '2015-03-09', '2015-03-16', '2015-03-23',\n",
              "       '2015-03-30', '2015-04-06', '2015-04-13', '2015-04-20',\n",
              "       '2015-04-27', '2015-05-04', '2015-05-11', '2015-05-18',\n",
              "       '2015-05-25', '2015-06-01', '2015-06-08', '2015-06-15',\n",
              "       '2015-06-22', '2015-06-29', '2015-07-06', '2015-07-13',\n",
              "       '2015-07-20', '2015-07-27', '2015-08-03', '2015-08-10',\n",
              "       '2015-08-17', '2015-08-24', '2015-08-31', '2015-09-07',\n",
              "       '2015-09-14', '2015-09-21', '2015-09-28', '2015-10-05',\n",
              "       '2015-10-12', '2015-10-19', '2015-10-26', '2015-11-02',\n",
              "       '2015-11-09', '2015-11-16', '2015-11-23', '2015-11-30',\n",
              "       '2015-12-07', '2015-12-14', '2015-12-21', '2015-12-28',\n",
              "       '2016-01-04', '2016-01-11', '2016-01-18', '2016-01-25',\n",
              "       '2016-02-01', '2016-02-08', '2016-02-15', '2016-02-22',\n",
              "       '2016-02-29', '2016-03-07', '2016-03-14', '2016-03-21',\n",
              "       '2016-03-28', '2016-04-04', '2016-04-11', '2016-04-18',\n",
              "       '2016-04-25', '2016-05-02', '2016-05-09', '2016-05-16',\n",
              "       '2016-05-23', '2016-05-30', '2016-06-06', '2016-06-13',\n",
              "       '2016-06-20', '2016-06-27', '2016-07-04', '2016-07-11',\n",
              "       '2016-07-18', '2016-07-25', '2016-08-01', '2016-08-08',\n",
              "       '2016-08-15', '2016-08-22', '2016-08-29', '2016-09-05',\n",
              "       '2016-09-12', '2016-09-19', '2016-09-26', '2016-10-03',\n",
              "       '2016-10-10', '2016-10-17', '2016-10-24', '2016-10-31',\n",
              "       '2016-11-07', '2016-11-14', '2016-11-21', '2016-11-28',\n",
              "       '2016-12-05', '2016-12-12', '2016-12-19', '2016-12-26',\n",
              "       '2017-01-02', '2017-01-09', '2017-01-16', '2017-01-23',\n",
              "       '2017-01-30', '2017-02-06', '2017-02-13', '2017-02-20',\n",
              "       '2017-02-27', '2017-03-06', '2017-03-13', '2017-03-20',\n",
              "       '2017-03-27', '2017-04-03', '2017-04-10', '2017-04-17',\n",
              "       '2017-04-24', '2017-05-01', '2017-05-08', '2017-05-15',\n",
              "       '2017-05-22', '2017-05-29', '2017-06-05', '2017-06-12',\n",
              "       '2017-06-19', '2017-06-26', '2017-07-03', '2017-07-10',\n",
              "       '2017-07-17', '2017-07-24', '2017-07-31', '2017-08-07',\n",
              "       '2017-08-14', '2017-08-21', '2017-08-28', '2017-09-04',\n",
              "       '2017-09-11', '2017-09-18', '2017-09-25', '2017-10-02',\n",
              "       '2017-10-09', '2017-10-16', '2017-10-23', '2017-10-30',\n",
              "       '2017-11-06', '2017-11-13', '2017-11-20', '2017-11-27',\n",
              "       '2017-12-04', '2017-12-11', '2017-12-18', '2017-12-25',\n",
              "       '2018-01-01', '2018-01-08', '2018-01-15', '2018-01-22',\n",
              "       '2018-01-29', '2018-02-05', '2018-02-12', '2018-02-19',\n",
              "       '2018-02-26', '2018-03-05', '2018-03-12', '2018-03-19',\n",
              "       '2018-03-26', '2018-04-02', '2018-04-09', '2018-04-16',\n",
              "       '2018-04-23', '2018-04-30', '2018-05-07', '2018-05-14',\n",
              "       '2018-05-21', '2018-05-28', '2018-06-04', '2018-06-11',\n",
              "       '2018-06-18', '2018-06-25', '2018-07-02', '2018-07-09',\n",
              "       '2018-07-16', '2018-07-23', '2018-07-30', '2018-08-06',\n",
              "       '2018-08-13', '2018-08-20', '2018-08-27', '2018-09-03',\n",
              "       '2018-09-10', '2018-09-17', '2018-09-24', '2018-10-01',\n",
              "       '2018-10-08', '2018-10-15', '2018-10-22', '2018-10-29',\n",
              "       '2018-11-05', '2018-11-12', '2018-11-19', '2018-11-26',\n",
              "       '2018-12-03', '2018-12-10', '2018-12-17', '2018-12-24',\n",
              "       '2018-12-31', '2019-01-07', '2019-01-14', '2019-01-21',\n",
              "       '2019-01-28', '2019-02-04', '2019-02-11', '2019-02-18',\n",
              "       '2019-02-25', '2019-03-04', '2019-03-11', '2019-03-18',\n",
              "       '2019-03-25', '2019-04-01', '2019-04-08', '2019-04-15',\n",
              "       '2019-04-22', '2019-04-29', '2019-05-06', '2019-05-13',\n",
              "       '2019-05-20', '2019-05-27', '2019-06-03', '2019-06-10',\n",
              "       '2019-06-17', '2019-06-24', '2019-07-01', '2019-07-08',\n",
              "       '2019-07-15', '2019-07-22', '2019-07-29', '2019-08-05',\n",
              "       '2019-08-12', '2019-08-19', '2019-08-26', '2019-09-02',\n",
              "       '2019-09-09', '2019-09-16', '2019-09-23', '2019-09-30',\n",
              "       '2019-10-07', '2019-10-14', '2019-10-21', '2019-10-28',\n",
              "       '2019-11-04', '2019-11-11', '2019-11-18', '2019-11-25',\n",
              "       '2019-12-02', '2019-12-09', '2019-12-16', '2019-12-23',\n",
              "       '2019-12-30', '2020-01-06', '2020-01-13', '2020-01-20',\n",
              "       '2020-01-27', '2020-02-03', '2020-02-10', '2020-02-17',\n",
              "       '2020-02-24', '2020-03-02', '2020-03-09', '2020-03-16',\n",
              "       '2020-03-23', '2020-03-30', '2020-04-06', '2020-04-13',\n",
              "       '2020-04-20', '2020-04-27', '2020-05-04', '2020-05-11',\n",
              "       '2020-05-18', '2020-05-25', '2020-06-01', '2020-06-08',\n",
              "       '2020-06-15', '2020-06-22', '2020-06-29', '2020-07-06',\n",
              "       '2020-07-13', '2020-07-20', '2020-07-27', '2020-08-03',\n",
              "       '2020-08-10', '2020-08-17', '2020-08-24', '2020-08-31',\n",
              "       '2020-09-07', '2020-09-14', '2020-09-21', '2020-09-28',\n",
              "       '2020-10-05', '2020-10-12', '2020-10-19', '2020-10-26',\n",
              "       '2020-11-02', '2020-11-09', '2020-11-16', '2020-11-23',\n",
              "       '2020-11-30', '2020-12-07', '2020-12-14', '2020-12-21',\n",
              "       '2020-12-28', '2021-01-04', '2021-01-11', '2021-01-18',\n",
              "       '2021-01-25', '2021-02-01', '2021-02-08', '2021-02-15',\n",
              "       '2021-02-22', '2021-03-01', '2021-03-08', '2021-03-15',\n",
              "       '2021-03-22', '2021-03-29', '2021-04-05', '2021-04-12',\n",
              "       '2021-04-19', '2021-04-26', '2021-05-03', '2021-05-10',\n",
              "       '2021-05-17', '2021-05-24', '2021-05-31', '2021-06-07',\n",
              "       '2021-06-14', '2021-06-21', '2021-06-28', '2021-07-05',\n",
              "       '2021-07-12', '2021-07-19', '2021-07-26', '2021-08-02',\n",
              "       '2021-08-09', '2021-08-16', '2021-08-23', '2021-08-30',\n",
              "       '2021-09-06', '2021-09-13', '2021-09-20', '2021-09-27',\n",
              "       '2021-10-04', '2021-10-11', '2021-10-18', '2021-10-25',\n",
              "       '2021-11-01', '2021-11-08', '2021-11-15', '2021-11-22',\n",
              "       '2021-11-29', '2021-12-06', '2021-12-13', '2021-12-20',\n",
              "       '2021-12-27', '2022-01-03', '2022-01-10', '2022-01-17',\n",
              "       '2022-01-24', '2022-01-31', '2022-02-07', '2022-02-14',\n",
              "       '2022-02-21', '2022-02-28', '2022-03-07', '2022-03-11'],\n",
              "      dtype=object)"
            ]
          },
          "metadata": {},
          "execution_count": 33
        }
      ]
    },
    {
      "cell_type": "code",
      "source": [
        "btc_data['1'].unique()"
      ],
      "metadata": {
        "colab": {
          "base_uri": "https://localhost:8080/"
        },
        "id": "xjqY-6vEfusI",
        "outputId": "b7080f6f-6b8f-49f5-d498-ecc4392165e9"
      },
      "execution_count": null,
      "outputs": [
        {
          "output_type": "execute_result",
          "data": {
            "text/plain": [
              "array([  24268.258,   23060.846,   19722.584,   23193.697,   23898.646,\n",
              "         21693.697,   20006.51 ,   22342.553,   23934.258,   22702.227,\n",
              "         23512.633,   23219.506,   21982.273,   20290.111,   20162.918,\n",
              "         16715.617,   16562.572,   13012.622,   15585.896,   14070.448,\n",
              "         13842.72 ,   14576.645,   14686.146,   16045.486,   17133.545,\n",
              "         18064.955,   16719.363,   15178.761,   16144.046,   14699.981,\n",
              "         13921.516,   13967.202,   15296.383,   15310.7  ,   15020.943,\n",
              "         15336.658,   14672.495,   14210.781,   14967.654,   15497.763,\n",
              "         15804.729,   17242.004,   19708.969,   17369.428,   18758.393,\n",
              "         18102.896,   16897.717,   16826.22 ,   15064.585,   15126.821,\n",
              "         16010.519,   15269.76 ,   15222.467,   15401.531,   15571.274,\n",
              "         16001.305,   16920.846,   18411.115,   21271.96 ,   24690.826,\n",
              "         21146.482,   21458.97 ,   24802.81 ,   25923.04 ,   29121.66 ,\n",
              "         29333.193,   27912.871,   28467.287,   29957.383,   25912.61 ,\n",
              "         27216.057,   25031.904,   25561.2  ,   27735.826,   30121.508,\n",
              "         29793.646,   27307.807,   27726.828,   27462.367,   28516.098,\n",
              "         27929.295,   28052.977,   28482.295,   30562.828,   30011.504,\n",
              "         30535.4  ,   30618.162,   29609.623,   35273.395,   38517.42 ,\n",
              "         45037.707,   51221.445,   42720.49 ,   44248.914,   43590.887,\n",
              "         45582.523,   44398.344,   41622.496,   39609.473,   38164.418,\n",
              "         39005.766,   38524.875,   40628.266,   40571.3  ,   40901.508,\n",
              "         40072.992,   40652.117,   41070.44 ,   42801.598,   43965.406,\n",
              "         46871.46 ,   47519.207,   47408.082,   49833.97 ,   50150.617,\n",
              "         52632.195,   51926.438,   53625.605,   60788.81 ,   67830.99 ,\n",
              "         62091.47 ,   56011.94 ,   62949.055,   62626.87 ,   69011.56 ,\n",
              "         66758.38 ,   70270.164,   77625.62 ,   84580.26 ,   81258.414,\n",
              "         67854.63 ,   63223.812,   71475.73 ,   76339.66 ,   76252.31 ,\n",
              "         78021.98 ,   86628.89 ,  102668.45 ,  116200.766,  131779.88 ,\n",
              "        139059.88 ,  161760.56 ,  190029.   ,  164186.33 ,  166965.16 ,\n",
              "        161955.56 ,  162691.22 ,  124233.32 ,  175783.14 ,  176762.81 ,\n",
              "        204503.   ,  261238.53 ,  261978.12 ,  280504.3  ,  293401.1  ,\n",
              "        262961.12 ,  229680.52 ,  238611.2  ,  287586.25 ,  301479.28 ,\n",
              "        367350.5  ,  390727.56 ,  400184.88 ,  478148.3  ,  387706.56 ,\n",
              "        522452.22 ,  603406.6  ,  730459.6  ,  996409.7  , 1226351.1  ,\n",
              "        891390.44 ,  903603.06 , 1043526.4  ,  875899.2  ,  740318.4  ,\n",
              "        749255.06 ,  530721.9  ,  523082.28 ,  677847.6  ,  625308.06 ,\n",
              "        750736.6  ,  623760.4  ,  534374.7  ,  552055.8  ,  445627.8  ,\n",
              "        455966.9  ,  543474.44 ,  582722.9  ,  627404.94 ,  645037.2  ,\n",
              "        587906.4  ,  578773.3  ,  499049.56 ,  517179.56 ,  458192.06 ,\n",
              "        442307.8  ,  418915.38 ,  437109.38 ,  466042.94 ,  435571.75 ,\n",
              "        509872.84 ,  563786.4  ,  484473.62 ,  435538.5  ,  456010.44 ,\n",
              "        469239.9  ,  516363.12 ,  452275.72 ,  468389.72 ,  484771.47 ,\n",
              "        480446.78 ,  487890.38 ,  463555.2  ,  476291.94 ,  474382.12 ,\n",
              "        465075.88 ,  465104.4  ,  403685.62 ,  283291.34 ,  288839.28 ,\n",
              "        257966.05 ,  233947.03 ,  280490.44 ,  270273.88 ,  283471.1  ,\n",
              "        250053.16 ,  256536.73 ,  254412.17 ,  247550.08 ,  262592.28 ,\n",
              "        262057.98 ,  270696.56 ,  273149.53 ,  276603.1  ,  277592.16 ,\n",
              "        278215.7  ,  284829.88 ,  359609.38 ,  357455.6  ,  368668.47 ,\n",
              "        369177.3  ,  400935.   ,  487595.44 ,  576237.44 ,  601674.6  ,\n",
              "        608332.1  ,  533207.94 ,  627632.25 ,  755315.6  ,  745848.3  ,\n",
              "        783815.94 ,  703131.25 ,  729640.9  ,  658001.06 ,  764259.25 ,\n",
              "        818692.7  ,  736040.94 ,  725019.56 ,  700041.94 ,  748427.8  ,\n",
              "        735016.25 ,  717018.56 ,  571408.5  ,  565767.3  ,  590159.   ,\n",
              "        584096.4  ,  676643.44 ,  651296.7  ,  646299.1  ,  614565.8  ,\n",
              "        505996.16 ,  532704.6  ,  539284.25 ,  505572.75 ,  534074.44 ,\n",
              "        530212.1  ,  531863.2  ,  581358.3  ,  618567.4  ,  613184.9  ,\n",
              "        668112.75 ,  723501.9  ,  710589.75 ,  713421.3  ,  617995.1  ,\n",
              "        600030.75 ,  398630.22 ,  440398.62 ,  446500.72 ,  517755.7  ,\n",
              "        531033.3  ,  550494.25 ,  585831.8  ,  672054.7  ,  661405.2  ,\n",
              "        733332.25 ,  668024.06 ,  714529.44 ,  736968.5  ,  712992.7  ,\n",
              "        709423.6  ,  691438.2  ,  677638.   ,  697210.   ,  687995.06 ,\n",
              "        740510.9  ,  828115.3  ,  875972.8  ,  890807.2  ,  873954.3  ,\n",
              "        856445.44 ,  753452.6  ,  758577.7  ,  804346.4  ,  794132.5  ,\n",
              "        782322.06 ,  831216.7  ,  843384.5  ,  962171.2  , 1025276.06 ,\n",
              "       1145147.4  , 1189296.   , 1362157.4  , 1344213.6  , 1427727.5  ,\n",
              "       1411568.6  , 1727846.   , 1936930.8  , 2395940.2  , 2813688.5  ,\n",
              "       2617995.8  , 2356991.   , 2414384.5  , 2831977.8  , 3536634.   ,\n",
              "       4175234.2  , 3326373.5  , 3747472.   , 4310706.5  , 4165414.8  ,\n",
              "       4053488.8  , 4311483.   , 4499101.5  , 4191673.   , 3668868.   ,\n",
              "       4196083.   , 4267878.5  , 3404260.8  , 2535125.   , 2582873.8  ,\n",
              "       2614724.   , 2863208.8  , 2646819.5  , 2571713.5  , 2628306.   ,\n",
              "       2550786.   , 2371928.8  , 2631791.5  , 2973306.5  , 3262594.   ,\n",
              "       3491689.5  , 3664685.   , 3588839.   , 3777727.5  , 3386781.2  ,\n",
              "       3482905.2  , 3189358.   , 3574140.2  , 4124631.5  , 4616900.   ,\n",
              "       4569445.   , 4594486.5  , 4698392.5  , 4867364.   , 4364864.   ,\n",
              "       4296522.   , 3714842.8  , 3793918.8  , 3550821.   , 3830783.2  ,\n",
              "       3527718.   , 3112181.8  , 3202534.5  , 2699641.2  , 2845582.5  ,\n",
              "       3165757.5  , 3184215.8  , 2870256.2  , 2830794.5  , 2936117.   ,\n",
              "       3009494.   , 2971693.5  ])"
            ]
          },
          "metadata": {},
          "execution_count": 28
        }
      ]
    },
    {
      "cell_type": "code",
      "source": [
        "eth_data['Unnamed: 0'].unique()"
      ],
      "metadata": {
        "colab": {
          "base_uri": "https://localhost:8080/"
        },
        "id": "FzoBtMaWgzDj",
        "outputId": "4a560e41-ff67-4527-eb3b-60ccf05181ec"
      },
      "execution_count": null,
      "outputs": [
        {
          "output_type": "execute_result",
          "data": {
            "text/plain": [
              "array([  0,   1,   2,   3,   4,   5,   6,   7,   8,   9,  10,  11,  12,\n",
              "        13,  14,  15,  16,  17,  18,  19,  20,  21,  22,  23,  24,  25,\n",
              "        26,  27,  28,  29,  30,  31,  32,  33,  34,  35,  36,  37,  38,\n",
              "        39,  40,  41,  42,  43,  44,  45,  46,  47,  48,  49,  50,  51,\n",
              "        52,  53,  54,  55,  56,  57,  58,  59,  60,  61,  62,  63,  64,\n",
              "        65,  66,  67,  68,  69,  70,  71,  72,  73,  74,  75,  76,  77,\n",
              "        78,  79,  80,  81,  82,  83,  84,  85,  86,  87,  88,  89,  90,\n",
              "        91,  92,  93,  94,  95,  96,  97,  98,  99, 100, 101, 102, 103,\n",
              "       104, 105, 106, 107, 108, 109, 110, 111, 112, 113, 114, 115, 116,\n",
              "       117, 118, 119, 120, 121, 122, 123, 124, 125, 126, 127, 128, 129,\n",
              "       130, 131, 132, 133, 134, 135, 136, 137, 138, 139, 140, 141, 142,\n",
              "       143, 144, 145, 146, 147, 148, 149, 150, 151, 152, 153, 154, 155,\n",
              "       156, 157, 158, 159, 160, 161, 162, 163, 164, 165, 166, 167, 168,\n",
              "       169, 170, 171, 172, 173, 174, 175, 176, 177, 178, 179, 180, 181,\n",
              "       182, 183, 184, 185, 186, 187, 188, 189, 190, 191, 192, 193, 194,\n",
              "       195, 196, 197, 198, 199, 200, 201, 202, 203, 204, 205, 206, 207,\n",
              "       208, 209, 210, 211, 212, 213, 214, 215, 216, 217, 218, 219, 220,\n",
              "       221, 222, 223, 224, 225, 226, 227])"
            ]
          },
          "metadata": {},
          "execution_count": 34
        }
      ]
    },
    {
      "cell_type": "code",
      "source": [
        "eth_data['0'].unique()"
      ],
      "metadata": {
        "colab": {
          "base_uri": "https://localhost:8080/"
        },
        "id": "n4psEuVAheFo",
        "outputId": "6bd1c827-efe8-497d-e4ac-7a4b4d7d12d0"
      },
      "execution_count": null,
      "outputs": [
        {
          "output_type": "execute_result",
          "data": {
            "text/plain": [
              "array(['06-11-2017', '13-11-2017', '20-11-2017', '27-11-2017',\n",
              "       '04-12-2017', '11-12-2017', '18-12-2017', '25-12-2017',\n",
              "       '01-01-2018', '08-01-2018', '15-01-2018', '22-01-2018',\n",
              "       '29-01-2018', '05-02-2018', '12-02-2018', '19-02-2018',\n",
              "       '26-02-2018', '05-03-2018', '12-03-2018', '19-03-2018',\n",
              "       '26-03-2018', '02-04-2018', '09-04-2018', '16-04-2018',\n",
              "       '23-04-2018', '30-04-2018', '07-05-2018', '14-05-2018',\n",
              "       '21-05-2018', '28-05-2018', '04-06-2018', '11-06-2018',\n",
              "       '18-06-2018', '25-06-2018', '02-07-2018', '09-07-2018',\n",
              "       '16-07-2018', '23-07-2018', '30-07-2018', '06-08-2018',\n",
              "       '13-08-2018', '20-08-2018', '27-08-2018', '03-09-2018',\n",
              "       '10-09-2018', '17-09-2018', '24-09-2018', '01-10-2018',\n",
              "       '08-10-2018', '15-10-2018', '22-10-2018', '29-10-2018',\n",
              "       '05-11-2018', '12-11-2018', '19-11-2018', '26-11-2018',\n",
              "       '03-12-2018', '10-12-2018', '17-12-2018', '24-12-2018',\n",
              "       '31-12-2018', '07-01-2019', '14-01-2019', '21-01-2019',\n",
              "       '28-01-2019', '04-02-2019', '11-02-2019', '18-02-2019',\n",
              "       '25-02-2019', '04-03-2019', '11-03-2019', '18-03-2019',\n",
              "       '25-03-2019', '01-04-2019', '08-04-2019', '15-04-2019',\n",
              "       '22-04-2019', '29-04-2019', '06-05-2019', '13-05-2019',\n",
              "       '20-05-2019', '27-05-2019', '03-06-2019', '10-06-2019',\n",
              "       '17-06-2019', '24-06-2019', '01-07-2019', '08-07-2019',\n",
              "       '15-07-2019', '22-07-2019', '29-07-2019', '05-08-2019',\n",
              "       '12-08-2019', '19-08-2019', '26-08-2019', '02-09-2019',\n",
              "       '09-09-2019', '16-09-2019', '23-09-2019', '30-09-2019',\n",
              "       '07-10-2019', '14-10-2019', '21-10-2019', '28-10-2019',\n",
              "       '04-11-2019', '11-11-2019', '18-11-2019', '25-11-2019',\n",
              "       '02-12-2019', '09-12-2019', '16-12-2019', '23-12-2019',\n",
              "       '30-12-2019', '06-01-2020', '13-01-2020', '20-01-2020',\n",
              "       '27-01-2020', '03-02-2020', '10-02-2020', '17-02-2020',\n",
              "       '24-02-2020', '02-03-2020', '09-03-2020', '16-03-2020',\n",
              "       '23-03-2020', '30-03-2020', '06-04-2020', '13-04-2020',\n",
              "       '20-04-2020', '27-04-2020', '04-05-2020', '11-05-2020',\n",
              "       '18-05-2020', '25-05-2020', '01-06-2020', '08-06-2020',\n",
              "       '15-06-2020', '22-06-2020', '29-06-2020', '06-07-2020',\n",
              "       '13-07-2020', '20-07-2020', '27-07-2020', '03-08-2020',\n",
              "       '10-08-2020', '17-08-2020', '24-08-2020', '31-08-2020',\n",
              "       '07-09-2020', '14-09-2020', '21-09-2020', '28-09-2020',\n",
              "       '05-10-2020', '12-10-2020', '19-10-2020', '26-10-2020',\n",
              "       '02-11-2020', '09-11-2020', '16-11-2020', '23-11-2020',\n",
              "       '30-11-2020', '07-12-2020', '14-12-2020', '21-12-2020',\n",
              "       '28-12-2020', '04-01-2021', '11-01-2021', '18-01-2021',\n",
              "       '25-01-2021', '01-02-2021', '08-02-2021', '15-02-2021',\n",
              "       '22-02-2021', '01-03-2021', '08-03-2021', '15-03-2021',\n",
              "       '22-03-2021', '29-03-2021', '05-04-2021', '12-04-2021',\n",
              "       '19-04-2021', '26-04-2021', '03-05-2021', '10-05-2021',\n",
              "       '17-05-2021', '24-05-2021', '31-05-2021', '07-06-2021',\n",
              "       '14-06-2021', '21-06-2021', '28-06-2021', '05-07-2021',\n",
              "       '12-07-2021', '19-07-2021', '26-07-2021', '02-08-2021',\n",
              "       '09-08-2021', '16-08-2021', '23-08-2021', '30-08-2021',\n",
              "       '06-09-2021', '13-09-2021', '20-09-2021', '27-09-2021',\n",
              "       '04-10-2021', '11-10-2021', '18-10-2021', '25-10-2021',\n",
              "       '01-11-2021', '08-11-2021', '15-11-2021', '22-11-2021',\n",
              "       '29-11-2021', '06-12-2021', '13-12-2021', '20-12-2021',\n",
              "       '27-12-2021', '03-01-2022', '10-01-2022', '17-01-2022',\n",
              "       '24-01-2022', '31-01-2022', '07-02-2022', '14-02-2022',\n",
              "       '21-02-2022', '28-02-2022', '07-03-2022', '11-03-2022'],\n",
              "      dtype=object)"
            ]
          },
          "metadata": {},
          "execution_count": 35
        }
      ]
    },
    {
      "cell_type": "code",
      "source": [
        "eth_data['1'].unique()"
      ],
      "metadata": {
        "colab": {
          "base_uri": "https://localhost:8080/"
        },
        "id": "azX4lUIqhi4C",
        "outputId": "bde35635-5766-424d-d2b7-73210c5d0afe"
      },
      "execution_count": null,
      "outputs": [
        {
          "output_type": "execute_result",
          "data": {
            "text/plain": [
              "array([ 20063.285,  23038.633,  30480.91 ,  30052.178,  28477.754,\n",
              "        46128.797,  44432.414,  48302.266,  73030.26 ,  86926.57 ,\n",
              "        66984.195,  79208.86 ,  53519.81 ,  52415.223,  59352.688,\n",
              "        54659.207,  56516.07 ,  47103.836,  35001.086,  34068.168,\n",
              "        24716.21 ,  26000.979,  34693.56 ,  41167.133,  45886.363,\n",
              "        52934.297,  49430.293,  48634.363,  38786.805,  41421.86 ,\n",
              "        35547.863,  34057.99 ,  31057.621,  31070.688,  33651.387,\n",
              "        30810.227,  31592.227,  32013.219,  28136.768,  22013.58 ,\n",
              "        21085.455,  19252.781,  20900.342,  14135.205,  15853.731,\n",
              "        17650.238,  16884.773,  16707.879,  14421.509,  15072.849,\n",
              "        15019.442,  15134.061,  15331.622,  12710.749,   8226.813,\n",
              "         8120.454,   6790.767,   6132.125,   9171.939,   9777.76 ,\n",
              "        10968.977,   8227.146,   8511.404,   8050.213,   7681.789,\n",
              "         8881.179,   9529.727,   9651.108,   9389.711,   9572.8  ,\n",
              "         9654.868,   9475.464,   9818.142,  12072.41 ,  11609.528,\n",
              "        11796.108,  10987.369,  11307.178,  13100.13 ,  18366.926,\n",
              "        18527.041,  18802.203,  16165.768,  18786.3  ,  21418.627,\n",
              "        20043.635,  20925.35 ,  15602.218,  15532.39 ,  14546.531,\n",
              "        15512.72 ,  15352.318,  13837.021,  13361.361,  12312.785,\n",
              "        12999.514,  13481.056,  15062.171,  12021.829,  12257.048,\n",
              "        12913.498,  12469.961,  13051.718,  12864.997,  13523.123,\n",
              "        13262.798,  10254.634,  10847.813,  10784.104,  10116.329,\n",
              "         9411.694,   9625.982,   9779.719,  10351.551,  11862.989,\n",
              "        11988.412,  13485.966,  16346.977,  18589.738,  19678.748,\n",
              "        15804.203,  14851.735,   9256.545,   9315.281,   9468.562,\n",
              "        10943.996,  12275.265,  13906.258,  15051.677,  15932.467,\n",
              "        14245.613,  15708.846,  15379.135,  17444.023,  18514.53 ,\n",
              "        17782.662,  17461.012,  17040.766,  17001.89 ,  18198.312,\n",
              "        17862.129,  23148.975,  27770.006,  29343.828,  32491.936,\n",
              "        29323.33 ,  31327.957,  25898.113,  26861.662,  27285.39 ,\n",
              "        26343.055,  25852.027,  27391.018,  27777.547,  29993.537,\n",
              "        29582.39 ,  33553.074,  33360.113,  41381.41 ,  42576.95 ,\n",
              "        44422.676,  43482.055,  46975.953,  50327.96 ,  71296.945,\n",
              "        92593.81 ,  89982.42 , 101581.734,  95876.305, 117507.79 ,\n",
              "       131040.164, 140451.78 , 104354.016, 126105.99 , 134808.95 ,\n",
              "       129489.266, 122534.42 , 153585.52 , 161241.16 , 166808.66 ,\n",
              "       173399.6  , 218732.77 , 287947.2  , 262889.4  , 153809.58 ,\n",
              "       173043.17 , 197957.27 , 183694.17 , 166554.77 , 146874.53 ,\n",
              "       172926.77 , 159398.27 , 141401.44 , 163145.92 , 190548.88 ,\n",
              "       224497.9  , 245695.83 , 240894.84 , 237174.55 , 288485.   ,\n",
              "       250728.61 , 245368.14 , 226035.42 , 253479.38 , 257987.45 ,\n",
              "       288556.5  , 306568.03 , 321295.44 , 342810.84 , 343963.03 ,\n",
              "       317327.66 , 322300.66 , 315909.94 , 313099.8  , 298208.4  ,\n",
              "       306656.2  , 285342.97 , 234481.53 , 248909.25 , 188652.12 ,\n",
              "       195381.   , 228216.75 , 217585.56 , 196321.22 , 196813.17 ,\n",
              "       195260.08 , 199021.6  , 196379.53 ])"
            ]
          },
          "metadata": {},
          "execution_count": 36
        }
      ]
    },
    {
      "cell_type": "code",
      "source": [
        "//Relationship Analysis "
      ],
      "metadata": {
        "id": "wWsD2QswQkJO"
      },
      "execution_count": null,
      "outputs": []
    },
    {
      "cell_type": "code",
      "source": [
        "corelation_ada = ada_data.corr()"
      ],
      "metadata": {
        "id": "aFhvA18TQr53"
      },
      "execution_count": null,
      "outputs": []
    },
    {
      "cell_type": "code",
      "source": [
        "corelation_btc = btc_data.corr()"
      ],
      "metadata": {
        "id": "BkXfCGTMhy3P"
      },
      "execution_count": null,
      "outputs": []
    },
    {
      "cell_type": "code",
      "source": [
        "corelation_eth = eth_data.corr()"
      ],
      "metadata": {
        "id": "aUAofd0mh6Nz"
      },
      "execution_count": null,
      "outputs": []
    },
    {
      "cell_type": "code",
      "source": [
        "sns.heatmap(corelation_ada, xticklabels=corelation_ada.columns, yticklabels = corelation_ada.columns\n",
        "            ,annot = True)"
      ],
      "metadata": {
        "colab": {
          "base_uri": "https://localhost:8080/",
          "height": 286
        },
        "id": "GD7YsBTqQw0S",
        "outputId": "0c537a2a-f006-4c5b-cf6d-31e18a10870a"
      },
      "execution_count": null,
      "outputs": [
        {
          "output_type": "execute_result",
          "data": {
            "text/plain": [
              "<matplotlib.axes._subplots.AxesSubplot at 0x7f73e69fed90>"
            ]
          },
          "metadata": {},
          "execution_count": 38
        },
        {
          "output_type": "display_data",
          "data": {
            "text/plain": [
              "<Figure size 432x288 with 2 Axes>"
            ],
            "image/png": "[encoded data removed]"
          },
          "metadata": {
            "needs_background": "light"
          }
        }
      ]
    },
    {
      "cell_type": "code",
      "source": [
        "sns.heatmap(corelation_btc, xticklabels=corelation_btc.columns, yticklabels = corelation_btc.columns\n",
        "            ,annot = True)"
      ],
      "metadata": {
        "colab": {
          "base_uri": "https://localhost:8080/",
          "height": 286
        },
        "id": "vFr1MrqDiElQ",
        "outputId": "38f123c0-4961-40e4-ab73-10caf65a13a4"
      },
      "execution_count": null,
      "outputs": [
        {
          "output_type": "execute_result",
          "data": {
            "text/plain": [
              "<matplotlib.axes._subplots.AxesSubplot at 0x7f73e68fe550>"
            ]
          },
          "metadata": {},
          "execution_count": 41
        },
        {
          "output_type": "display_data",
          "data": {
            "text/plain": [
              "<Figure size 432x288 with 2 Axes>"
            ],
            "image/png": "[encoded data removed]"
          },
          "metadata": {
            "needs_background": "light"
          }
        }
      ]
    },
    {
      "cell_type": "code",
      "source": [
        "sns.heatmap(corelation_eth, xticklabels=corelation_eth.columns, yticklabels = corelation_eth.columns\n",
        "            ,annot = True)"
      ],
      "metadata": {
        "colab": {
          "base_uri": "https://localhost:8080/",
          "height": 286
        },
        "id": "qddjMap1iSGJ",
        "outputId": "07231ce6-edd8-44ea-aac3-3b42a928154a"
      },
      "execution_count": null,
      "outputs": [
        {
          "output_type": "execute_result",
          "data": {
            "text/plain": [
              "<matplotlib.axes._subplots.AxesSubplot at 0x7f73e6438150>"
            ]
          },
          "metadata": {},
          "execution_count": 42
        },
        {
          "output_type": "display_data",
          "data": {
            "text/plain": [
              "<Figure size 432x288 with 2 Axes>"
            ],
            "image/png": "[encoded data removed]"
          },
          "metadata": {
            "needs_background": "light"
          }
        }
      ]
    },
    {
      "cell_type": "code",
      "source": [
        "sns.pairplot(ada_data)"
      ],
      "metadata": {
        "colab": {
          "base_uri": "https://localhost:8080/",
          "height": 391
        },
        "id": "lu3uRD-HQ1mf",
        "outputId": "a79cc5c7-9685-4da7-d99d-b02b343ef09e"
      },
      "execution_count": null,
      "outputs": [
        {
          "output_type": "execute_result",
          "data": {
            "text/plain": [
              "<seaborn.axisgrid.PairGrid at 0x7f73e637a750>"
            ]
          },
          "metadata": {},
          "execution_count": 43
        },
        {
          "output_type": "display_data",
          "data": {
            "text/plain": [
              "<Figure size 360x360 with 6 Axes>"
            ],
            "image/png": "[encoded data removed]"
          },
          "metadata": {
            "needs_background": "light"
          }
        }
      ]
    },
    {
      "cell_type": "code",
      "source": [
        "sns.pairplot(btc_data)"
      ],
      "metadata": {
        "colab": {
          "base_uri": "https://localhost:8080/",
          "height": 391
        },
        "id": "lucSWm9Fi1Xo",
        "outputId": "0ea8d49d-af88-45dc-ee3b-12081e1969c1"
      },
      "execution_count": null,
      "outputs": [
        {
          "output_type": "execute_result",
          "data": {
            "text/plain": [
              "<seaborn.axisgrid.PairGrid at 0x7f73e391afd0>"
            ]
          },
          "metadata": {},
          "execution_count": 44
        },
        {
          "output_type": "display_data",
          "data": {
            "text/plain": [
              "<Figure size 360x360 with 6 Axes>"
            ],
            "image/png": "[encoded data removed]"
          },
          "metadata": {
            "needs_background": "light"
          }
        }
      ]
    },
    {
      "cell_type": "code",
      "source": [
        "sns.pairplot(eth_data)"
      ],
      "metadata": {
        "colab": {
          "base_uri": "https://localhost:8080/",
          "height": 391
        },
        "id": "7o-ciPr1jCf0",
        "outputId": "8a643e07-0207-41d8-833b-967199927583"
      },
      "execution_count": null,
      "outputs": [
        {
          "output_type": "execute_result",
          "data": {
            "text/plain": [
              "<seaborn.axisgrid.PairGrid at 0x7f73e35aae10>"
            ]
          },
          "metadata": {},
          "execution_count": 45
        },
        {
          "output_type": "display_data",
          "data": {
            "text/plain": [
              "<Figure size 360x360 with 6 Axes>"
            ],
            "image/png": "[encoded data removed]"
          },
          "metadata": {
            "needs_background": "light"
          }
        }
      ]
    },
    {
      "cell_type": "code",
      "source": [
        "sns.histplot(ada_data['Unnamed: 0'])"
      ],
      "metadata": {
        "colab": {
          "base_uri": "https://localhost:8080/",
          "height": 296
        },
        "id": "_lx0CftgQ7QA",
        "outputId": "e2432097-516e-4ba4-8beb-8d89d0daae48"
      },
      "execution_count": null,
      "outputs": [
        {
          "output_type": "execute_result",
          "data": {
            "text/plain": [
              "<matplotlib.axes._subplots.AxesSubplot at 0x7f73e36d9a90>"
            ]
          },
          "metadata": {},
          "execution_count": 46
        },
        {
          "output_type": "display_data",
          "data": {
            "text/plain": [
              "<Figure size 432x288 with 1 Axes>"
            ],
            "image/png": "[encoded data removed]"
          },
          "metadata": {
            "needs_background": "light"
          }
        }
      ]
    },
    {
      "cell_type": "code",
      "source": [
        "sns.histplot(ada_data['0'])"
      ],
      "metadata": {
        "colab": {
          "base_uri": "https://localhost:8080/",
          "height": 296
        },
        "id": "yq76DxTyRBIH",
        "outputId": "a3b41bd4-56a1-4eb6-b131-4e127e069d20"
      },
      "execution_count": null,
      "outputs": [
        {
          "output_type": "execute_result",
          "data": {
            "text/plain": [
              "<matplotlib.axes._subplots.AxesSubplot at 0x7f73e33bff50>"
            ]
          },
          "metadata": {},
          "execution_count": 47
        },
        {
          "output_type": "display_data",
          "data": {
            "text/plain": [
              "<Figure size 432x288 with 1 Axes>"
            ],
            "image/png": "[encoded data removed]"
          },
          "metadata": {
            "needs_background": "light"
          }
        }
      ]
    },
    {
      "cell_type": "code",
      "source": [
        "sns.histplot(ada_data['1'])"
      ],
      "metadata": {
        "colab": {
          "base_uri": "https://localhost:8080/",
          "height": 296
        },
        "id": "bx_3Y9oVkX9G",
        "outputId": "a1d158d3-6cc4-45ee-861c-0a742f453b53"
      },
      "execution_count": null,
      "outputs": [
        {
          "output_type": "execute_result",
          "data": {
            "text/plain": [
              "<matplotlib.axes._subplots.AxesSubplot at 0x7f73e2dcefd0>"
            ]
          },
          "metadata": {},
          "execution_count": 48
        },
        {
          "output_type": "display_data",
          "data": {
            "text/plain": [
              "<Figure size 432x288 with 1 Axes>"
            ],
            "image/png": "[encoded data removed]"
          },
          "metadata": {
            "needs_background": "light"
          }
        }
      ]
    },
    {
      "cell_type": "code",
      "source": [
        "sns.histplot(btc_data['Unnamed: 0'])"
      ],
      "metadata": {
        "colab": {
          "base_uri": "https://localhost:8080/",
          "height": 296
        },
        "id": "ShIcawsYkeHu",
        "outputId": "32ca5c82-c8f0-4403-f9ab-2ffcdfbab781"
      },
      "execution_count": null,
      "outputs": [
        {
          "output_type": "execute_result",
          "data": {
            "text/plain": [
              "<matplotlib.axes._subplots.AxesSubplot at 0x7f73e2cc7250>"
            ]
          },
          "metadata": {},
          "execution_count": 49
        },
        {
          "output_type": "display_data",
          "data": {
            "text/plain": [
              "<Figure size 432x288 with 1 Axes>"
            ],
            "image/png": "[encoded data removed]"
          },
          "metadata": {
            "needs_background": "light"
          }
        }
      ]
    },
    {
      "cell_type": "code",
      "source": [
        "sns.histplot(btc_data['0'])"
      ],
      "metadata": {
        "colab": {
          "base_uri": "https://localhost:8080/",
          "height": 296
        },
        "id": "XTSMmA4skjNl",
        "outputId": "e36fcd7b-3b1d-4c6e-9884-aa43cc1115e1"
      },
      "execution_count": null,
      "outputs": [
        {
          "output_type": "execute_result",
          "data": {
            "text/plain": [
              "<matplotlib.axes._subplots.AxesSubplot at 0x7f73e2568890>"
            ]
          },
          "metadata": {},
          "execution_count": 52
        },
        {
          "output_type": "display_data",
          "data": {
            "text/plain": [
              "<Figure size 432x288 with 1 Axes>"
            ],
            "image/png": "[encoded data removed]"
          },
          "metadata": {
            "needs_background": "light"
          }
        }
      ]
    },
    {
      "cell_type": "code",
      "source": [
        "sns.histplot(btc_data['1'])"
      ],
      "metadata": {
        "colab": {
          "base_uri": "https://localhost:8080/",
          "height": 296
        },
        "id": "1L2sHSE3k21o",
        "outputId": "42558525-a132-40ab-df28-a6c6c3e26363"
      },
      "execution_count": null,
      "outputs": [
        {
          "output_type": "execute_result",
          "data": {
            "text/plain": [
              "<matplotlib.axes._subplots.AxesSubplot at 0x7f73e1e0af10>"
            ]
          },
          "metadata": {},
          "execution_count": 53
        },
        {
          "output_type": "display_data",
          "data": {
            "text/plain": [
              "<Figure size 432x288 with 1 Axes>"
            ],
            "image/png": "[encoded data removed]"
          },
          "metadata": {
            "needs_background": "light"
          }
        }
      ]
    },
    {
      "cell_type": "code",
      "source": [
        "sns.histplot(eth_data['Unnamed: 0'])"
      ],
      "metadata": {
        "colab": {
          "base_uri": "https://localhost:8080/",
          "height": 296
        },
        "id": "zKZ30sJdk6-5",
        "outputId": "81c317bb-290f-42b8-d306-b9ce14ff834a"
      },
      "execution_count": null,
      "outputs": [
        {
          "output_type": "execute_result",
          "data": {
            "text/plain": [
              "<matplotlib.axes._subplots.AxesSubplot at 0x7f73e1bca850>"
            ]
          },
          "metadata": {},
          "execution_count": 54
        },
        {
          "output_type": "display_data",
          "data": {
            "text/plain": [
              "<Figure size 432x288 with 1 Axes>"
            ],
            "image/png": "[encoded data removed]"
          },
          "metadata": {
            "needs_background": "light"
          }
        }
      ]
    },
    {
      "cell_type": "code",
      "source": [
        "sns.histplot(eth_data['0'])"
      ],
      "metadata": {
        "colab": {
          "base_uri": "https://localhost:8080/",
          "height": 296
        },
        "id": "8zrRUumxlGoY",
        "outputId": "0561cb63-e5f9-4bbf-d0e5-186fb1ac8a52"
      },
      "execution_count": null,
      "outputs": [
        {
          "output_type": "execute_result",
          "data": {
            "text/plain": [
              "<matplotlib.axes._subplots.AxesSubplot at 0x7f73e1b2c0d0>"
            ]
          },
          "metadata": {},
          "execution_count": 55
        },
        {
          "output_type": "display_data",
          "data": {
            "text/plain": [
              "<Figure size 432x288 with 1 Axes>"
            ],
            "image/png": "[encoded data removed]"
          },
          "metadata": {
            "needs_background": "light"
          }
        }
      ]
    },
    {
      "cell_type": "code",
      "source": [
        "sns.histplot(ada_data['1'])"
      ],
      "metadata": {
        "id": "JEzpu6tUlL7J",
        "outputId": "43940776-c95a-444e-f342-be3d4f4e8522",
        "colab": {
          "base_uri": "https://localhost:8080/",
          "height": 296
        }
      },
      "execution_count": null,
      "outputs": [
        {
          "output_type": "execute_result",
          "data": {
            "text/plain": [
              "<matplotlib.axes._subplots.AxesSubplot at 0x7f73e15a80d0>"
            ]
          },
          "metadata": {},
          "execution_count": 56
        },
        {
          "output_type": "display_data",
          "data": {
            "text/plain": [
              "<Figure size 432x288 with 1 Axes>"
            ],
            "image/png": "[encoded data removed]"
          },
          "metadata": {
            "needs_background": "light"
          }
        }
      ]
    },
    {
      "cell_type": "code",
      "source": [
        "df_list = [ada_data, btc_data, eth_data]"
      ],
      "metadata": {
        "id": "KE0nAD8YsMr6"
      },
      "execution_count": null,
      "outputs": []
    },
    {
      "cell_type": "code",
      "source": [
        "df = pd.concat(df_list)"
      ],
      "metadata": {
        "id": "ZFN9hLZN4DRe"
      },
      "execution_count": null,
      "outputs": []
    },
    {
      "cell_type": "code",
      "source": [
        "df"
      ],
      "metadata": {
        "colab": {
          "base_uri": "https://localhost:8080/",
          "height": 423
        },
        "id": "aSrUN5oJ4Jlg",
        "outputId": "94c39038-5261-4648-da9c-c185859f87d6"
      },
      "execution_count": null,
      "outputs": [
        {
          "output_type": "execute_result",
          "data": {
            "text/plain": [
              "     Unnamed: 0           0              1\n",
              "0             0  2017-11-06       1.562341\n",
              "1             1  2017-11-13       1.825773\n",
              "2             2  2017-11-20       2.349590\n",
              "3             3  2017-11-27       8.502870\n",
              "4             4  2017-12-04       7.109816\n",
              "..          ...         ...            ...\n",
              "223         223  14-02-2022  196321.220000\n",
              "224         224  21-02-2022  196813.170000\n",
              "225         225  28-02-2022  195260.080000\n",
              "226         226  07-03-2022  199021.600000\n",
              "227         227  11-03-2022  196379.530000\n",
              "\n",
              "[848 rows x 3 columns]"
            ],
            "text/html": [
              "\n",
              "  <div id=\"df-2035a7d0-2262-465e-8824-34c6a302355a\">\n",
              "    <div class=\"colab-df-container\">\n",
              "      <div>\n",
              "<style scoped>\n",
              "    .dataframe tbody tr th:only-of-type {\n",
              "        vertical-align: middle;\n",
              "    }\n",
              "\n",
              "    .dataframe tbody tr th {\n",
              "        vertical-align: top;\n",
              "    }\n",
              "\n",
              "    .dataframe thead th {\n",
              "        text-align: right;\n",
              "    }\n",
              "</style>\n",
              "<table border=\"1\" class=\"dataframe\">\n",
              "  <thead>\n",
              "    <tr style=\"text-align: right;\">\n",
              "      <th></th>\n",
              "      <th>Unnamed: 0</th>\n",
              "      <th>0</th>\n",
              "      <th>1</th>\n",
              "    </tr>\n",
              "  </thead>\n",
              "  <tbody>\n",
              "    <tr>\n",
              "      <th>0</th>\n",
              "      <td>0</td>\n",
              "      <td>2017-11-06</td>\n",
              "      <td>1.562341</td>\n",
              "    </tr>\n",
              "    <tr>\n",
              "      <th>1</th>\n",
              "      <td>1</td>\n",
              "      <td>2017-11-13</td>\n",
              "      <td>1.825773</td>\n",
              "    </tr>\n",
              "    <tr>\n",
              "      <th>2</th>\n",
              "      <td>2</td>\n",
              "      <td>2017-11-20</td>\n",
              "      <td>2.349590</td>\n",
              "    </tr>\n",
              "    <tr>\n",
              "      <th>3</th>\n",
              "      <td>3</td>\n",
              "      <td>2017-11-27</td>\n",
              "      <td>8.502870</td>\n",
              "    </tr>\n",
              "    <tr>\n",
              "      <th>4</th>\n",
              "      <td>4</td>\n",
              "      <td>2017-12-04</td>\n",
              "      <td>7.109816</td>\n",
              "    </tr>\n",
              "    <tr>\n",
              "      <th>...</th>\n",
              "      <td>...</td>\n",
              "      <td>...</td>\n",
              "      <td>...</td>\n",
              "    </tr>\n",
              "    <tr>\n",
              "      <th>223</th>\n",
              "      <td>223</td>\n",
              "      <td>14-02-2022</td>\n",
              "      <td>196321.220000</td>\n",
              "    </tr>\n",
              "    <tr>\n",
              "      <th>224</th>\n",
              "      <td>224</td>\n",
              "      <td>21-02-2022</td>\n",
              "      <td>196813.170000</td>\n",
              "    </tr>\n",
              "    <tr>\n",
              "      <th>225</th>\n",
              "      <td>225</td>\n",
              "      <td>28-02-2022</td>\n",
              "      <td>195260.080000</td>\n",
              "    </tr>\n",
              "    <tr>\n",
              "      <th>226</th>\n",
              "      <td>226</td>\n",
              "      <td>07-03-2022</td>\n",
              "      <td>199021.600000</td>\n",
              "    </tr>\n",
              "    <tr>\n",
              "      <th>227</th>\n",
              "      <td>227</td>\n",
              "      <td>11-03-2022</td>\n",
              "      <td>196379.530000</td>\n",
              "    </tr>\n",
              "  </tbody>\n",
              "</table>\n",
              "<p>848 rows × 3 columns</p>\n",
              "</div>\n",
              "      <button class=\"colab-df-convert\" onclick=\"convertToInteractive('df-2035a7d0-2262-465e-8824-34c6a302355a')\"\n",
              "              title=\"Convert this dataframe to an interactive table.\"\n",
              "              style=\"display:none;\">\n",
              "        \n",
              "  <svg xmlns=\"http://www.w3.org/2000/svg\" height=\"24px\"viewBox=\"0 0 24 24\"\n",
              "       width=\"24px\">\n",
              "    <path d=\"M0 0h24v24H0V0z\" fill=\"none\"/>\n",
              "    <path d=\"M18.56 5.44l.94 2.06.94-2.06 2.06-.94-2.06-.94-.94-2.06-.94 2.06-2.06.94zm-11 1L8.5 8.5l.94-2.06 2.06-.94-2.06-.94L8.5 2.5l-.94 2.06-2.06.94zm10 10l.94 2.06.94-2.06 2.06-.94-2.06-.94-.94-2.06-.94 2.06-2.06.94z\"/><path d=\"M17.41 7.96l-1.37-1.37c-.4-.4-.92-.59-1.43-.59-.52 0-1.04.2-1.43.59L10.3 9.45l-7.72 7.72c-.78.78-.78 2.05 0 2.83L4 21.41c.39.39.9.59 1.41.59.51 0 1.02-.2 1.41-.59l7.78-7.78 2.81-2.81c.8-.78.8-2.07 0-2.86zM5.41 20L4 18.59l7.72-7.72 1.47 1.35L5.41 20z\"/>\n",
              "  </svg>\n",
              "      </button>\n",
              "      \n",
              "  <style>\n",
              "    .colab-df-container {\n",
              "      display:flex;\n",
              "      flex-wrap:wrap;\n",
              "      gap: 12px;\n",
              "    }\n",
              "\n",
              "    .colab-df-convert {\n",
              "      background-color: #E8F0FE;\n",
              "      border: none;\n",
              "      border-radius: 50%;\n",
              "      cursor: pointer;\n",
              "      display: none;\n",
              "      fill: #1967D2;\n",
              "      height: 32px;\n",
              "      padding: 0 0 0 0;\n",
              "      width: 32px;\n",
              "    }\n",
              "\n",
              "    .colab-df-convert:hover {\n",
              "      background-color: #E2EBFA;\n",
              "      box-shadow: 0px 1px 2px rgba(60, 64, 67, 0.3), 0px 1px 3px 1px rgba(60, 64, 67, 0.15);\n",
              "      fill: #174EA6;\n",
              "    }\n",
              "\n",
              "    [theme=dark] .colab-df-convert {\n",
              "      background-color: #3B4455;\n",
              "      fill: #D2E3FC;\n",
              "    }\n",
              "\n",
              "    [theme=dark] .colab-df-convert:hover {\n",
              "      background-color: #434B5C;\n",
              "      box-shadow: 0px 1px 3px 1px rgba(0, 0, 0, 0.15);\n",
              "      filter: drop-shadow(0px 1px 2px rgba(0, 0, 0, 0.3));\n",
              "      fill: #FFFFFF;\n",
              "    }\n",
              "  </style>\n",
              "\n",
              "      <script>\n",
              "        const buttonEl =\n",
              "          document.querySelector('#df-2035a7d0-2262-465e-8824-34c6a302355a button.colab-df-convert');\n",
              "        buttonEl.style.display =\n",
              "          google.colab.kernel.accessAllowed ? 'block' : 'none';\n",
              "\n",
              "        async function convertToInteractive(key) {\n",
              "          const element = document.querySelector('#df-2035a7d0-2262-465e-8824-34c6a302355a');\n",
              "          const dataTable =\n",
              "            await google.colab.kernel.invokeFunction('convertToInteractive',\n",
              "                                                     [key], {});\n",
              "          if (!dataTable) return;\n",
              "\n",
              "          const docLinkHtml = 'Like what you see? Visit the ' +\n",
              "            '<a target=\"_blank\" href=https://colab.research.google.com/notebooks/data_table.ipynb>data table notebook</a>'\n",
              "            + ' to learn more about interactive tables.';\n",
              "          element.innerHTML = '';\n",
              "          dataTable['output_type'] = 'display_data';\n",
              "          await google.colab.output.renderOutput(dataTable, element);\n",
              "          const docLink = document.createElement('div');\n",
              "          docLink.innerHTML = docLinkHtml;\n",
              "          element.appendChild(docLink);\n",
              "        }\n",
              "      </script>\n",
              "    </div>\n",
              "  </div>\n",
              "  "
            ]
          },
          "metadata": {},
          "execution_count": 7
        }
      ]
    },
    {
      "cell_type": "code",
      "source": [
        "sns.histplot(df['0'])"
      ],
      "metadata": {
        "colab": {
          "base_uri": "https://localhost:8080/",
          "height": 296
        },
        "id": "5BJly1vRI9TW",
        "outputId": "bb0898b0-35a7-4dcf-b215-1a8c75ae144c"
      },
      "execution_count": null,
      "outputs": [
        {
          "output_type": "execute_result",
          "data": {
            "text/plain": [
              "<matplotlib.axes._subplots.AxesSubplot at 0x7f5958125310>"
            ]
          },
          "metadata": {},
          "execution_count": 10
        },
        {
          "output_type": "display_data",
          "data": {
            "text/plain": [
              "<Figure size 432x288 with 1 Axes>"
            ],
            "image/png": "[encoded data removed]"
          },
          "metadata": {
            "needs_background": "light"
          }
        }
      ]
    }
  ]
}
